{
 "cells": [
  {
   "cell_type": "code",
   "execution_count": null,
   "id": "afa99189",
   "metadata": {},
   "outputs": [],
   "source": [
    "import torch\n",
    "import matplotlib.pyplot as plt\n",
    "import torch.nn.functional as F"
   ]
  },
  {
   "cell_type": "code",
   "execution_count": null,
   "id": "374f5b52",
   "metadata": {},
   "outputs": [],
   "source": [
    "with open('names.txt','r') as w:\n",
    "    names = w.read()\n",
    "    names = names.splitlines()"
   ]
  },
  {
   "cell_type": "code",
   "execution_count": 127,
   "id": "cdf09cf3",
   "metadata": {},
   "outputs": [
    {
     "data": {
      "text/plain": [
       "32033"
      ]
     },
     "execution_count": 127,
     "metadata": {},
     "output_type": "execute_result"
    }
   ],
   "source": [
    "len(names)"
   ]
  },
  {
   "cell_type": "code",
   "execution_count": null,
   "id": "ab142f56",
   "metadata": {},
   "outputs": [],
   "source": [
    "chars = sorted(list(set(''.join(names))))\n",
    "stoi = {s:i+1 for i,s in enumerate(chars)}\n",
    "stoi['.'] = 0\n",
    "itos= {s:i for i,s in stoi.items()}\n",
    "print(stoi)\n",
    "print(itos)"
   ]
  },
  {
   "cell_type": "code",
   "execution_count": null,
   "id": "110ce5bc",
   "metadata": {},
   "outputs": [],
   "source": [
    "def build_dataset(words):\n",
    "    block_size = 3 #context length / how many chars do we need to predict the next word\n",
    "    x, y = [], []\n",
    "\n",
    "    for w in words:\n",
    "\n",
    "        context = [0] * block_size\n",
    "        for ch in w + '.':\n",
    "            ix = stoi[ch]\n",
    "            x.append(context)\n",
    "            y.append(ix)\n",
    "            context = context[1:] + [ix]\n",
    "    \n",
    "    x = torch.tensor(x)\n",
    "    y = torch.tensor(y)\n",
    "    print(x.shape,y.shape)\n",
    "    return x, y\n",
    "\n",
    "# split our dataset into train, dev and test\n",
    "import random\n",
    "random.seed(42)\n",
    "random.shuffle(names)\n",
    "\n",
    "n1 = int(0.7*len(names))\n",
    "n2 = int(0.9*len(names))\n",
    "\n",
    "xtr, ytr = build_dataset(names[:n1])\n",
    "xdev, ydev = build_dataset(names[n1:n2])\n",
    "xtest, ytest = build_dataset(names[n2:])"
   ]
  },
  {
   "cell_type": "markdown",
   "id": "7ba5cbfa",
   "metadata": {},
   "source": [
    "Now we embedd our 27 characters into a 2-D space."
   ]
  },
  {
   "cell_type": "code",
   "execution_count": null,
   "id": "055af374",
   "metadata": {},
   "outputs": [],
   "source": [
    "# for every 27 chars we have a 2-D space on which it is mapped on\n",
    "C = torch.randn((27,2))"
   ]
  },
  {
   "cell_type": "markdown",
   "id": "c8040148",
   "metadata": {},
   "source": [
    "### Below we do some tensor gymnastics to see how effective pytorch indexing is and how we can simply index into C from x using C[x]."
   ]
  },
  {
   "cell_type": "code",
   "execution_count": null,
   "id": "4edc1954",
   "metadata": {},
   "outputs": [],
   "source": [
    "xtr[:2].shape"
   ]
  },
  {
   "cell_type": "code",
   "execution_count": null,
   "id": "e49da98f",
   "metadata": {},
   "outputs": [],
   "source": [
    "C[xtr[:2]].shape"
   ]
  },
  {
   "cell_type": "markdown",
   "id": "8d94001a",
   "metadata": {},
   "source": [
    "Below we learn how one hot @ matrix is simply pulling out the ith row where i = 1 in one hot"
   ]
  },
  {
   "cell_type": "code",
   "execution_count": null,
   "id": "aea4a65a",
   "metadata": {},
   "outputs": [],
   "source": [
    "g = torch.Generator().manual_seed(4)\n",
    "y = F.one_hot(torch.tensor(2,),num_classes=5).float()\n",
    "x = torch.randn((5,2),generator=g)"
   ]
  },
  {
   "cell_type": "code",
   "execution_count": null,
   "id": "3aa7a4ef",
   "metadata": {},
   "outputs": [],
   "source": [
    "y"
   ]
  },
  {
   "cell_type": "code",
   "execution_count": null,
   "id": "761f2027",
   "metadata": {},
   "outputs": [],
   "source": [
    "x"
   ]
  },
  {
   "cell_type": "code",
   "execution_count": null,
   "id": "25e017a9",
   "metadata": {},
   "outputs": [],
   "source": [
    "x[2]"
   ]
  },
  {
   "cell_type": "code",
   "execution_count": null,
   "id": "f39b91fb",
   "metadata": {},
   "outputs": [],
   "source": [
    "y.shape"
   ]
  },
  {
   "cell_type": "code",
   "execution_count": null,
   "id": "78f3d15a",
   "metadata": {},
   "outputs": [],
   "source": [
    "x.shape,y.shape"
   ]
  },
  {
   "cell_type": "code",
   "execution_count": null,
   "id": "80069b47",
   "metadata": {},
   "outputs": [],
   "source": [
    "y@x"
   ]
  },
  {
   "cell_type": "markdown",
   "id": "f398c4d3",
   "metadata": {},
   "source": [
    "looking up x in our embedding table C, just adds in a third dimesion which is 2 elements for each of X[1]. \n",
    "\n",
    "This causes every element of x to be represented by a len(2) vector"
   ]
  },
  {
   "cell_type": "markdown",
   "id": "d19458de",
   "metadata": {},
   "source": [
    "## Now we implement the embedding lookup table"
   ]
  },
  {
   "cell_type": "code",
   "execution_count": null,
   "id": "9dc44a7d",
   "metadata": {},
   "outputs": [],
   "source": [
    "emb = C[xtr]\n",
    "emb.shape"
   ]
  },
  {
   "cell_type": "code",
   "execution_count": null,
   "id": "596cc673",
   "metadata": {},
   "outputs": [],
   "source": [
    "emb.view(-1,6).shape"
   ]
  },
  {
   "cell_type": "markdown",
   "id": "09b9d51c",
   "metadata": {},
   "source": [
    "## To move our inputs to the next layer we would want to do \n",
    "1. emb @ W1 + b\n",
    "2. But, we can't do that as emb and W1 are not shape compatible\n",
    "3. So we do something familiar, i.e reshape/view of emb"
   ]
  },
  {
   "cell_type": "code",
   "execution_count": null,
   "id": "bacbcd09",
   "metadata": {},
   "outputs": [],
   "source": [
    "W1 = torch.randn((6,100))\n",
    "b1 = torch.randn(100)"
   ]
  },
  {
   "cell_type": "code",
   "execution_count": null,
   "id": "139b5a8f",
   "metadata": {},
   "outputs": [],
   "source": [
    "# h = emb.view(32,6) @ W1 + b1 we change this in favour of below, as the magic -1 pops up.\n",
    "h = torch.tanh(emb.view(-1,6) @ W1 + b1) #also add a tanh to ensure ouputs btw -1 and 1, our non-linearity\n",
    "h.shape"
   ]
  },
  {
   "cell_type": "code",
   "execution_count": null,
   "id": "069dee61",
   "metadata": {},
   "outputs": [],
   "source": [
    "#  again why log, if the probability is very high, we get the output close to zero, else if close to zero, we get hugely -ve.\n",
    "loss = -probs[torch.arange(32),y].log().mean()\n",
    "loss"
   ]
  },
  {
   "cell_type": "markdown",
   "id": "fee97728",
   "metadata": {},
   "source": [
    "## Lets make it respectable :)"
   ]
  },
  {
   "cell_type": "code",
   "execution_count": 195,
   "id": "07b8d36a",
   "metadata": {},
   "outputs": [
    {
     "name": "stdout",
     "output_type": "stream",
     "text": [
      "12297\n"
     ]
    }
   ],
   "source": [
    "# intialising all our embeddings, layers and biases\n",
    "n_embd = 10\n",
    "n_hidden = 200\n",
    "vocab_size = len(stoi) \n",
    "block_size = 3\n",
    "\n",
    "g = torch.Generator().manual_seed(2147483647) \n",
    "C = torch.randn((vocab_size,n_embd),generator=g)\n",
    "W1 = torch.randn((n_embd*block_size,n_hidden),generator=g) * 5/3 / ((n_embd*block_size)**0.5)  #kaiming initialisation\n",
    "b1 = torch.randn(n_hidden,generator=g) * 0.01\n",
    "W2 = torch.randn((n_hidden,vocab_size),generator=g) * 0.01\n",
    "b2 = torch.randn(vocab_size,generator=g) * 0\n",
    "\n",
    "# batch-norm params\n",
    "bngain = torch.ones((1,n_hidden))\n",
    "bnbias = torch.zeros((1,n_hidden))\n",
    "bnmean_running = torch.zeros((1,n_hidden))\n",
    "bnstd_running = torch.ones((1,n_hidden))\n",
    "\n",
    "# Total params\n",
    "parameters = [C,W1,b1,W2,b2,bngain,bnbias]\n",
    "print(sum(p.numel() for p in parameters))\n",
    "\n",
    "# enable gradient tracking\n",
    "for p in parameters:\n",
    "    p.requires_grad = True"
   ]
  },
  {
   "cell_type": "markdown",
   "id": "5d02dc3f",
   "metadata": {},
   "source": [
    "This is great way to get the total number of parameters."
   ]
  },
  {
   "cell_type": "code",
   "execution_count": null,
   "id": "f3193024",
   "metadata": {},
   "outputs": [],
   "source": [
    "# forward pass\n",
    "emb = C[x]\n",
    "h = torch.tanh(emb.view(-1,6) @ W1 + b1) # (32,100)\n",
    "logits = h @ W2 + b2 # (32,27)\n",
    "\n",
    "## The below is a manual implemenation of negative log-likelihood loss or cross entropy loss, highly inefficient\n",
    "# counts = logits.exp()\n",
    "# probs = counts / counts.sum(1, keepdim=True)\n",
    "# loss = -probs[torch.arange(32),y].log().mean()\n",
    "\n",
    "loss = F.cross_entropy(logits,y) # we can always replace the manual implementation of cross entropy with the direct funtion call, as its much faster\n",
    "loss"
   ]
  },
  {
   "cell_type": "markdown",
   "id": "b7caba08",
   "metadata": {},
   "source": [
    "Here we're trying to find a good learning rate."
   ]
  },
  {
   "cell_type": "code",
   "execution_count": null,
   "id": "23c5fe84",
   "metadata": {},
   "outputs": [],
   "source": [
    "lre = torch.linspace(-3,0,1000)\n",
    "lrs = 10**lre\n",
    "lrs"
   ]
  },
  {
   "cell_type": "code",
   "execution_count": 160,
   "id": "ce8072c1",
   "metadata": {},
   "outputs": [],
   "source": [
    "batch_size = 32\n",
    "lri = []\n",
    "lossi = []"
   ]
  },
  {
   "cell_type": "code",
   "execution_count": null,
   "id": "b687723d",
   "metadata": {},
   "outputs": [],
   "source": [
    "plt.plot(lri,lossi)\n",
    "# As we can see that we can find a good learning rate which comes to around -1.0, or 10^-1 = 0.1\n",
    "# So 0.1 is a good learning rate."
   ]
  },
  {
   "cell_type": "code",
   "execution_count": 196,
   "id": "8e045989",
   "metadata": {},
   "outputs": [
    {
     "name": "stdout",
     "output_type": "stream",
     "text": [
      "3.3168883323669434\n",
      "2.577650785446167\n",
      "2.5112223625183105\n",
      "2.5045273303985596\n",
      "2.922590494155884\n",
      "2.0659847259521484\n",
      "1.8299839496612549\n",
      "2.3936543464660645\n",
      "2.3888497352600098\n",
      "2.457491159439087\n"
     ]
    }
   ],
   "source": [
    "for i in range(10000):\n",
    "\n",
    "    # minibatch initialisation\n",
    "    ix = torch.randint(0,xtr.shape[0],(batch_size,))\n",
    "\n",
    "    # forward pass\n",
    "    emb = C[xtr[ix]]\n",
    "    hpreact = emb.view(-1,30) @ W1 + b1\n",
    "\n",
    "    # we implement batchnorm and then add a BN gain + Bn bias so that the network can shift the gaussian distribution around on its own. -> scale and shift\n",
    "    bnmeani = hpreact.mean(0,keepdim=True)\n",
    "    bnstdi = hpreact.std(0,keepdim=True)\n",
    "    hpreact = bngain*((hpreact-bnmeani) / bnstdi)  + bnbias\n",
    "\n",
    "    with torch.no_grad():\n",
    "        bnmean_running = 0.999 * bnmean_running + 0.001 * bnmeani\n",
    "        bnstd_running = 0.999 * bnstd_running + 0.001 * bnstdi\n",
    "\n",
    "\n",
    "    h = torch.tanh(hpreact)\n",
    "    logits = h @ W2 + b2 \n",
    "    loss = F.cross_entropy(logits,ytr[ix]) \n",
    "    # print(loss.item())\n",
    "\n",
    "    # backward pass\n",
    "    for p in parameters:\n",
    "        p.grad = None\n",
    "\n",
    "    loss.backward()\n",
    "\n",
    "\n",
    "    # Update\n",
    "    # lr = lrs[i]\n",
    "    # lr = 10**-2/(1+i*(10**-3))\n",
    "    lr = 0.1 if i < 70000 else 0.01\n",
    "    lri.append(lr)\n",
    "    for p in parameters:\n",
    "        p.data += -lr * p.grad\n",
    "    \n",
    "    # # trac stats\n",
    "    # lri.append(lre[i])\n",
    "    lossi.append(loss.item())\n",
    "\n",
    "    # print(f\"{loss.item():.4f}\")\n",
    "    # break\n",
    "    if i % 1000 == 0:\n",
    "        print(loss.item())\n"
   ]
  },
  {
   "cell_type": "code",
   "execution_count": 197,
   "id": "15a01f14",
   "metadata": {},
   "outputs": [],
   "source": [
    "with torch.no_grad():\n",
    "    emb = C[xtr]\n",
    "    embcat = emb.view(emb.shape[0],-1)\n",
    "    hpreact = embcat @ W1 + b1\n",
    "\n",
    "    bnmean = hpreact.mean(0,keepdim=True)\n",
    "    bnstd = hpreact.std(0,keepdim=True)"
   ]
  },
  {
   "cell_type": "code",
   "execution_count": 198,
   "id": "030b74fa",
   "metadata": {},
   "outputs": [
    {
     "data": {
      "text/plain": [
       "tensor([[1.8270, 1.3480, 1.6302, 1.6242, 1.7820, 1.7557, 1.2954, 1.5389, 1.6835,\n",
       "         1.3016]])"
      ]
     },
     "execution_count": 198,
     "metadata": {},
     "output_type": "execute_result"
    }
   ],
   "source": [
    "bnstd_running[:,:10]"
   ]
  },
  {
   "cell_type": "code",
   "execution_count": 199,
   "id": "fd53950d",
   "metadata": {},
   "outputs": [
    {
     "data": {
      "text/plain": [
       "tensor([[1.8690, 1.3551, 1.6514, 1.6372, 1.7714, 1.7949, 1.3141, 1.5421, 1.6946,\n",
       "         1.3035]])"
      ]
     },
     "execution_count": 199,
     "metadata": {},
     "output_type": "execute_result"
    }
   ],
   "source": [
    "bnstd[:,:10]"
   ]
  },
  {
   "cell_type": "code",
   "execution_count": 114,
   "id": "cbe703e3",
   "metadata": {},
   "outputs": [
    {
     "data": {
      "text/plain": [
       "torch.Size([100, 1000])"
      ]
     },
     "execution_count": 114,
     "metadata": {},
     "output_type": "execute_result"
    }
   ],
   "source": [
    "torch.tensor(lossi).view(-1,1000).shape"
   ]
  },
  {
   "cell_type": "code",
   "execution_count": 123,
   "id": "a7e82a89",
   "metadata": {},
   "outputs": [
    {
     "data": {
      "image/png": "[encoded data removed]",
      "text/plain": [
       "<Figure size 640x480 with 2 Axes>"
      ]
     },
     "metadata": {},
     "output_type": "display_data"
    }
   ],
   "source": [
    "# Prepare your averaged loss and matching x-values\n",
    "loss_avg = torch.tensor(lossi).view(-1, 1000).mean(1)\n",
    "steps = torch.arange(len(loss_avg)) * 1000  # x-axis in iterations\n",
    "\n",
    "# Make a figure with two y-axes\n",
    "fig, ax1 = plt.subplots()\n",
    "\n",
    "# First y-axis for loss\n",
    "color = 'tab:blue'\n",
    "ax1.set_xlabel('Iteration')\n",
    "ax1.set_ylabel('Loss', color=color)\n",
    "ax1.plot(steps, loss_avg, color=color)\n",
    "ax1.tick_params(axis='y', labelcolor=color)\n",
    "\n",
    "# Second y-axis for LR\n",
    "ax2 = ax1.twinx()\n",
    "color = 'tab:red'\n",
    "lri_avg = torch.tensor(lri).view(-1, 1000).mean(1)\n",
    "ax2.set_ylabel('Learning Rate', color=color)\n",
    "ax2.plot(steps, lri_avg, color=color)\n",
    "ax2.tick_params(axis='y', labelcolor=color)\n",
    "plt.title('Loss & Learning Rate over Time')\n",
    "plt.show()"
   ]
  },
  {
   "cell_type": "code",
   "execution_count": 124,
   "id": "357284d1",
   "metadata": {},
   "outputs": [
    {
     "data": {
      "text/plain": [
       "[<matplotlib.lines.Line2D at 0x16289b140>]"
      ]
     },
     "execution_count": 124,
     "metadata": {},
     "output_type": "execute_result"
    },
    {
     "data": {
      "image/png": "[encoded data removed]",
      "text/plain": [
       "<Figure size 640x480 with 1 Axes>"
      ]
     },
     "metadata": {},
     "output_type": "display_data"
    }
   ],
   "source": [
    "# when we implement LR decay\n",
    "plt.plot(torch.tensor(lossi).view(-1,1000).mean(1))"
   ]
  },
  {
   "cell_type": "code",
   "execution_count": null,
   "id": "d17857cc",
   "metadata": {},
   "outputs": [
    {
     "data": {
      "text/plain": [
       "[<matplotlib.lines.Line2D at 0x15c9dfec0>]"
      ]
     },
     "execution_count": 65,
     "metadata": {},
     "output_type": "execute_result"
    },
    {
     "data": {
      "image/png": "[encoded data removed]",
      "text/plain": [
       "<Figure size 640x480 with 1 Axes>"
      ]
     },
     "metadata": {},
     "output_type": "display_data"
    }
   ],
   "source": [
    "# old plot with no lr decay\n",
    "plt.plot(torch.tensor(lossi).view(-1,1000).mean(1))"
   ]
  },
  {
   "cell_type": "code",
   "execution_count": 200,
   "id": "15fb15be",
   "metadata": {},
   "outputs": [
    {
     "data": {
      "text/plain": [
       "<matplotlib.image.AxesImage at 0x162f21370>"
      ]
     },
     "execution_count": 200,
     "metadata": {},
     "output_type": "execute_result"
    },
    {
     "data": {
      "image/png": "[encoded data removed]",
      "text/plain": [
       "<Figure size 2000x1000 with 1 Axes>"
      ]
     },
     "metadata": {},
     "output_type": "display_data"
    }
   ],
   "source": [
    "plt.figure(figsize=(20,10))\n",
    "plt.imshow(h.abs()> 0.9,cmap='gray',interpolation='nearest')"
   ]
  },
  {
   "cell_type": "code",
   "execution_count": 201,
   "id": "064c0b45",
   "metadata": {},
   "outputs": [
    {
     "data": {
      "image/png": "[encoded data removed]",
      "text/plain": [
       "<Figure size 640x480 with 1 Axes>"
      ]
     },
     "metadata": {},
     "output_type": "display_data"
    }
   ],
   "source": [
    "plt.hist(h.view(-1).tolist(),bins=50);"
   ]
  },
  {
   "cell_type": "code",
   "execution_count": 203,
   "id": "00fbf605",
   "metadata": {},
   "outputs": [
    {
     "data": {
      "image/png": "[encoded data removed]",
      "text/plain": [
       "<Figure size 640x480 with 1 Axes>"
      ]
     },
     "metadata": {},
     "output_type": "display_data"
    }
   ],
   "source": [
    "plt.hist(hpreact.view(-1).tolist(),bins=50);"
   ]
  },
  {
   "cell_type": "code",
   "execution_count": null,
   "id": "19ee4702",
   "metadata": {},
   "outputs": [],
   "source": [
    "param_names = ['Embedding_lookup','W1','b1','W2','b2']\n",
    "hyperparams: dict[str, float]\n",
    "hyperparams = {name:p.shape for name,p in zip(param_names,parameters)}\n",
    "hyperparams['Total_params'] = sum(p.numel() for p in parameters)\n",
    "hyperparams['lr'] = lr\n",
    "hyperparams['context_lenght'] = len(context)\n",
    "hyperparams['batch_size'] = batch_size\n",
    "hyperparams"
   ]
  },
  {
   "cell_type": "code",
   "execution_count": null,
   "id": "b219940c",
   "metadata": {},
   "outputs": [],
   "source": [
    "# training loss\n",
    "emb = C[xtr]\n",
    "h = torch.tanh(emb.view(-1,30) @ W1 + b1)\n",
    "logits = h @ W2 + b2 \n",
    "loss = F.cross_entropy(logits,ytr)\n",
    "loss"
   ]
  },
  {
   "cell_type": "code",
   "execution_count": null,
   "id": "c757be64",
   "metadata": {},
   "outputs": [],
   "source": [
    "# dev loss\n",
    "emb = C[xdev]\n",
    "h = torch.tanh(emb.view(-1,30) @ W1 + b1)\n",
    "logits = h @ W2 + b2 \n",
    "loss = F.cross_entropy(logits,ydev)\n",
    "loss"
   ]
  }
 ],
 "metadata": {
  "kernelspec": {
   "display_name": "base",
   "language": "python",
   "name": "python3"
  },
  "language_info": {
   "codemirror_mode": {
    "name": "ipython",
    "version": 3
   },
   "file_extension": ".py",
   "mimetype": "text/x-python",
   "name": "python",
   "nbconvert_exporter": "python",
   "pygments_lexer": "ipython3",
   "version": "3.12.8"
  }
 },
 "nbformat": 4,
 "nbformat_minor": 5
}
