{
 "cells": [
  {
   "cell_type": "code",
   "execution_count": 36,
   "id": "0a450a75",
   "metadata": {},
   "outputs": [],
   "source": [
    "import torch\n",
    "import matplotlib.pyplot as plt\n",
    "import torch.nn.functional as F\n",
    "import numpy as np\n",
    "from sklearn.model_selection import train_test_split"
   ]
  },
  {
   "cell_type": "code",
   "execution_count": 37,
   "id": "d307fbe3",
   "metadata": {},
   "outputs": [],
   "source": [
    "with open('names.txt','r') as w:\n",
    "    names = w.read()\n",
    "    names = names.splitlines()"
   ]
  },
  {
   "cell_type": "code",
   "execution_count": 38,
   "id": "f9716c0f",
   "metadata": {},
   "outputs": [
    {
     "data": {
      "text/plain": [
       "(32033, list)"
      ]
     },
     "execution_count": 38,
     "metadata": {},
     "output_type": "execute_result"
    }
   ],
   "source": [
    "len(names),type(names)"
   ]
  },
  {
   "cell_type": "code",
   "execution_count": 39,
   "id": "95e1759f",
   "metadata": {},
   "outputs": [
    {
     "data": {
      "text/plain": [
       "<torch._C.Generator at 0x12ab113f0>"
      ]
     },
     "execution_count": 39,
     "metadata": {},
     "output_type": "execute_result"
    }
   ],
   "source": [
    "torch.manual_seed(42)"
   ]
  },
  {
   "cell_type": "code",
   "execution_count": 40,
   "id": "865fc237",
   "metadata": {},
   "outputs": [],
   "source": [
    "chars = sorted(set(char for name in names for char in name))\n",
    "stoi = {s:i+1 for i,s in enumerate(chars)}\n",
    "stoi['.'] = 0\n",
    "itos = {i:s for s,i in stoi.items()}"
   ]
  },
  {
   "cell_type": "code",
   "execution_count": 41,
   "id": "ac6a06e8",
   "metadata": {},
   "outputs": [],
   "source": [
    "from typing import Any\n",
    "\n",
    "def build_dataset(words:list[str],block_size=3):\n",
    "    #context length / how many chars do we need to predict the next word\n",
    "    x, y = [],[]\n",
    "\n",
    "    for w in words:\n",
    "        context = [0] * block_size\n",
    "\n",
    "        for char in w + '.':\n",
    "            ix = stoi[char]\n",
    "            x.append(context)\n",
    "            y.append(ix)\n",
    "            context = context[1:] + [ix]\n",
    "\n",
    "    x = torch.tensor(x)\n",
    "    y = torch.tensor(y)\n",
    "    return x,y\n",
    "\n",
    "\n",
    "def train_test_val_split(x:torch.Tensor, y:torch.Tensor, percent_train=0.7, percent_val=0.15)-> Any:\n",
    "    n = len(x)\n",
    "    \n",
    "    # torch equivalent of permutation\n",
    "    idxs = torch.randperm(n) #the best way to generate indices in random ordering\n",
    "    \n",
    "    n_train = int(n * percent_train)\n",
    "    n_val   = int(n * percent_val)\n",
    "    \n",
    "    train_idx = idxs[:n_train]\n",
    "    val_idx   = idxs[n_train:n_train+n_val]\n",
    "    test_idx  = idxs[n_train+n_val:]\n",
    "    \n",
    "    return (x[train_idx], y[train_idx],\n",
    "            x[test_idx], y[test_idx],\n",
    "            x[val_idx], y[val_idx],train_idx)"
   ]
  },
  {
   "cell_type": "code",
   "execution_count": 42,
   "id": "42cf6160",
   "metadata": {},
   "outputs": [],
   "source": [
    "x,y = build_dataset(names,8)"
   ]
  },
  {
   "cell_type": "code",
   "execution_count": 43,
   "id": "8d199259",
   "metadata": {},
   "outputs": [
    {
     "name": "stdout",
     "output_type": "stream",
     "text": [
      "........ --> e\n",
      ".......e --> m\n",
      "......em --> m\n",
      ".....emm --> a\n",
      "....emma --> .\n",
      "........ --> o\n",
      ".......o --> l\n",
      "......ol --> i\n",
      ".....oli --> v\n",
      "....oliv --> i\n",
      "...olivi --> a\n",
      "..olivia --> .\n",
      "........ --> a\n",
      ".......a --> v\n",
      "......av --> a\n",
      ".....ava --> .\n",
      "........ --> i\n",
      ".......i --> s\n",
      "......is --> a\n",
      ".....isa --> b\n"
     ]
    }
   ],
   "source": [
    "for x,y in zip(x[:20],y[:20]):\n",
    "    print(''.join(itos[ix.item()] for ix in x),'-->',itos[y.item()] )"
   ]
  },
  {
   "cell_type": "code",
   "execution_count": 44,
   "id": "c38a3928",
   "metadata": {},
   "outputs": [
    {
     "name": "stdout",
     "output_type": "stream",
     "text": [
      "228146\n",
      "159702 0.6999991233683693\n"
     ]
    }
   ],
   "source": [
    "x,y = build_dataset(list(names),8)\n",
    "print(len(x))\n",
    "xtr,ytr,xtest,ytest,xval,yval,train_idx = train_test_val_split(x,y)\n",
    "print(len(xtr),len(xtr)/len(x))"
   ]
  },
  {
   "cell_type": "code",
   "execution_count": null,
   "id": "2f8f1906",
   "metadata": {},
   "outputs": [],
   "source": [
    "from typing import Any\n",
    "\n",
    "\n",
    "class Linear:\n",
    "\n",
    "    def __init__(self,fan_in,fan_out,bias=True):\n",
    "        self.weight = torch.randn((fan_in,fan_out))/fan_in**0.5 #kaiming init\n",
    "        self.bias = torch.zeros(fan_out) if bias else None\n",
    "\n",
    "    def __call__(self, x:torch.Tensor) -> Any:\n",
    "        self.out = x @ self.weight\n",
    "        if self.bias is not None:\n",
    "            self.out+= self.bias\n",
    "        return self.out\n",
    "    \n",
    "    def parameters(self):\n",
    "        return [self.weight] + ([] if self.bias is None else [self.bias] )\n",
    "    \n",
    "class BatchNorm1d:\n",
    "\n",
    "    def __init__(self,dim,eps=1e-5,momentum=0.1):\n",
    "        self.eps = eps\n",
    "        self.momentum = momentum\n",
    "        self.training = True\n",
    "\n",
    "        # to allow our nueral network to move the gaussian around as per convenience\n",
    "        self.gamma = torch.ones(dim) \n",
    "        self.beta = torch.zeros(dim)\n",
    "\n",
    "        # running mean and variance that will be get a small update per batchs\n",
    "        self.running_mean = torch.zeros(dim)\n",
    "        self.running_var = torch.ones(dim)\n",
    "\n",
    "    # This is how u will call a batch-norm on a layer\n",
    "    def __call__(self, x:torch.Tensor) -> Any:\n",
    "        if self.training:\n",
    "            # we've essentially fixed batch-norm to consider our 0th and 1st Dimensions as batch dimensions,\n",
    "            # as we've just broken down the incoming batch of 8 chars each into 4 pairs of 2 each.\n",
    "            if x.ndim == 2:\n",
    "                dim = 0\n",
    "            elif x.ndim == 3:\n",
    "                dim = (0,1)\n",
    "            xmean =  x.mean(dim,keepdim=True)\n",
    "            xvar = x.var(dim,keepdim=True,unbiased=False)\n",
    "\n",
    "        else:\n",
    "            xmean = self.running_mean\n",
    "            xvar = self.running_var\n",
    "        xhat = (x-xmean)/torch.sqrt(xvar+self.eps)\n",
    "        self.out = self.gamma * xhat + self.beta\n",
    "\n",
    "        if self.training:\n",
    "            # if we're training, we update the mean and var per batch in an exponential moving average style.\n",
    "            with torch.no_grad():\n",
    "                self.running_mean = (1-self.momentum)*self.running_mean + self.momentum*xmean\n",
    "                self.running_var = (1-self.momentum)*self.running_var + self.momentum*xvar\n",
    "        return self.out\n",
    "\n",
    "    def parameters(self):\n",
    "        return [self.gamma, self.beta]\n",
    "\n",
    "class Tanh:\n",
    "    \n",
    "    def __call__(self,x:torch.Tensor) -> Any:\n",
    "        self.out = torch.tanh(x)\n",
    "        return self.out\n",
    "    def parameters(self):\n",
    "        return []\n",
    "\n",
    "class Embedding:\n",
    "    # creating our embedding matrix so that each of the char can converted into n size embeddings\n",
    "    # essentially each character a,b,c will be represented by a matrix that is learnable\n",
    "    def __init__(self,n_embd,emb_dim):\n",
    "        self.weight = torch.randn((n_embd,emb_dim))\n",
    "    \n",
    "    def __call__(self, IX:torch.Tensor) -> Any:\n",
    "        self.out = self.weight[IX]\n",
    "        return self.out\n",
    "    \n",
    "    def parameters(self):\n",
    "        return [self.weight]\n",
    "\n",
    "class FlattenConsecutive:\n",
    "    # flattens some n consecutive elements and puts it in the last dimension\n",
    "    def __init__(self,n) -> None:\n",
    "        self.n = n \n",
    "\n",
    "    #reshape our embedding layer so that we can matmul using compatible shapes\n",
    "    def __call__(self,x:torch.Tensor):\n",
    "        B, T, C = x.shape\n",
    "        x = x.view(B, T//self.n, C*self.n)\n",
    "        if x.shape[1] == 1:\n",
    "            x = x.squeeze(1)   \n",
    "        self.out = x\n",
    "        return self.out\n",
    "    \n",
    "    def parameters(self):\n",
    "        return []\n",
    "\n",
    "class Sequential:\n",
    "\n",
    "    def __init__(self,layers) -> None:\n",
    "        self.layers = layers\n",
    "    \n",
    "    def __call__(self,x) -> Any:\n",
    "        for layer in self.layers:\n",
    "            x = layer(x)\n",
    "        self.out = x\n",
    "        return self.out\n",
    "    \n",
    "    def parameters(self):\n",
    "        return [p for layer in self.layers for p in layer.parameters()]"
   ]
  },
  {
   "cell_type": "markdown",
   "id": "533a7e57",
   "metadata": {},
   "source": [
    "## How to implement the wavenet architecture?\n",
    "1. Firstly we want to feed in the models slowly and not too much at the same time \n",
    "   1. Normally what our linear layer, flatten, embed does right now is for our ***Batch- B,context length - T , embedding size - C***\n",
    "   2. It takes up B items, T chars, and creates and embedding vector of size C\n",
    "   3. Then it flattens up those T chars each with an embedding size C into ***one long vector***\n",
    "      - So eg if you have a quadram model with B = 4, T = 4 & C = 10, input = *[4,4,10]* & output after flattening = *[4,20]*\n",
    "      - This dimension T = 4 can be broken down into 2 groups of 2 each.\n",
    "      - But what we want to do is to take it and do a flattening operation of *[4,2,10]* \n",
    "         * Now instead of collapsing 4 chars * 10 into one large vector of 40, *we only collapse 2 chars * 10 = 20 at a time*!"
   ]
  },
  {
   "cell_type": "code",
   "execution_count": null,
   "id": "eb7ad36a",
   "metadata": {},
   "outputs": [
    {
     "data": {
      "text/plain": [
       "torch.Size([4, 4, 20])"
      ]
     },
     "execution_count": 46,
     "metadata": {},
     "output_type": "execute_result"
    }
   ],
   "source": [
    "# below is an example to understand how we want to use flatten, we want to use 2 pairs of elements,\n",
    "# from 8, that we pass in to get an output, we're clubbing 2 of those together to get 4 pairs now\n",
    "# B = 4 , number of examples in one batch\n",
    "# T = 8, the context\n",
    "# C = how do we encode each char, one char is encoded into and embedidng vector of 10 --> C\n",
    "data = torch.randn((4,8,10)) \n",
    "# Here n = 2, as we want to say we want 2 consecutive chars to form a pair\n",
    "x = FlattenConsecutive(2) \n",
    "x(data).shape"
   ]
  },
  {
   "cell_type": "code",
   "execution_count": 100,
   "id": "973b0517",
   "metadata": {},
   "outputs": [
    {
     "data": {
      "text/plain": [
       "[0, 3, 6, 9]"
      ]
     },
     "execution_count": 100,
     "metadata": {},
     "output_type": "execute_result"
    }
   ],
   "source": [
    "ls = list(range(10))\n",
    "ls[::3]"
   ]
  },
  {
   "cell_type": "code",
   "execution_count": 108,
   "id": "5b83abb8",
   "metadata": {},
   "outputs": [
    {
     "data": {
      "text/plain": [
       "tensor([[[-0.0448, -0.0039, -0.0313, -0.1501, -0.1905, -0.0067, -0.0298,\n",
       "          -0.2177,  0.0710, -0.2068],\n",
       "         [ 0.0020, -0.1435, -0.0903, -0.3053,  0.2958,  0.1150, -0.1178,\n",
       "          -0.0517, -0.0819,  0.0958],\n",
       "         [-0.0909, -0.1640,  0.1321, -0.2256,  0.1238,  0.3530,  0.1536,\n",
       "          -0.0348,  0.0145,  0.1153],\n",
       "         [-0.1471, -0.1100, -0.1967,  0.1189,  0.0575, -0.1524, -0.0902,\n",
       "           0.1584,  0.1934,  0.0913]]])"
      ]
     },
     "execution_count": 108,
     "metadata": {},
     "output_type": "execute_result"
    }
   ],
   "source": [
    "x = torch.randn((32,4,10))\n",
    "x.mean(0,keepdim=True)\n",
    "# x.mean((0,1),keepdim=True).shape"
   ]
  },
  {
   "cell_type": "code",
   "execution_count": 110,
   "id": "d844e3b9",
   "metadata": {},
   "outputs": [
    {
     "name": "stdout",
     "output_type": "stream",
     "text": [
      "170897\n"
     ]
    }
   ],
   "source": [
    "n_embd = 10\n",
    "n_hidden = 200\n",
    "vocab_size = len(stoi)\n",
    "block_size = 8\n",
    "\n",
    "\n",
    "model = Sequential([\n",
    "    Embedding(vocab_size,n_embd),\n",
    "    FlattenConsecutive(2), Linear(n_embd*2,n_hidden,bias=False),BatchNorm1d(n_hidden),Tanh(),\n",
    "    FlattenConsecutive(2), Linear(n_hidden*2,n_hidden,bias=False),BatchNorm1d(n_hidden),Tanh(),\n",
    "    FlattenConsecutive(2), Linear(n_hidden*2,n_hidden,bias=False),BatchNorm1d(n_hidden),Tanh(), \n",
    "    Linear(n_hidden,vocab_size)])\n",
    "\n",
    "with torch.no_grad():\n",
    "    last_layer =  model.layers[-1]\n",
    "    last_layer.weight *= 0.1 #make softmax less confident # type: ignore\n",
    "\n",
    "parameters = model.parameters()\n",
    "\n",
    "for p in parameters:\n",
    "    p.requires_grad = True\n",
    "\n",
    "print(sum(p.numel() for p in parameters))"
   ]
  },
  {
   "cell_type": "code",
   "execution_count": 73,
   "id": "aea7640a",
   "metadata": {},
   "outputs": [
    {
     "data": {
      "text/plain": [
       "torch.Size([4, 4, 200])"
      ]
     },
     "execution_count": 73,
     "metadata": {},
     "output_type": "execute_result"
    }
   ],
   "source": [
    "# (4,8,10)\n",
    "out = torch.rand((4,4,20)) @ torch.randn((20,200))\n",
    "out.shape"
   ]
  },
  {
   "cell_type": "code",
   "execution_count": 75,
   "id": "261d2273",
   "metadata": {},
   "outputs": [
    {
     "name": "stdout",
     "output_type": "stream",
     "text": [
      "torch.Size([4, 8])\n"
     ]
    },
    {
     "data": {
      "text/plain": [
       "tensor([[ 0,  0,  0,  0,  0,  2,  5,  9],\n",
       "        [ 0,  0,  0,  0,  0,  0,  0,  0],\n",
       "        [ 0,  0,  0,  0,  0,  0,  0,  0],\n",
       "        [ 0,  0,  0,  0,  0,  0, 11,  1]])"
      ]
     },
     "execution_count": 75,
     "metadata": {},
     "output_type": "execute_result"
    }
   ],
   "source": [
    "ix = torch.randint(0,xtr.shape[0],(4,))\n",
    "xb,yb = xtr[ix],ytr[ix]\n",
    "lgoits = model(xb)\n",
    "print(xb.shape)\n",
    "xb"
   ]
  },
  {
   "cell_type": "code",
   "execution_count": 113,
   "id": "243a1644",
   "metadata": {},
   "outputs": [
    {
     "name": "stdout",
     "output_type": "stream",
     "text": [
      "Embedding : (32, 8, 10)\n",
      "FlattenConsecutive : (32, 4, 20)\n",
      "Linear : (32, 4, 200)\n",
      "BatchNorm1d : (32, 4, 200)\n",
      "Tanh : (32, 4, 200)\n",
      "FlattenConsecutive : (32, 2, 400)\n",
      "Linear : (32, 2, 200)\n",
      "BatchNorm1d : (32, 2, 200)\n",
      "Tanh : (32, 2, 200)\n",
      "FlattenConsecutive : (32, 400)\n",
      "Linear : (32, 200)\n",
      "BatchNorm1d : (32, 200)\n",
      "Tanh : (32, 200)\n",
      "Linear : (32, 27)\n"
     ]
    }
   ],
   "source": [
    "for layer in model.layers:\n",
    "    print(layer.__class__.__name__,':',tuple(layer.out.shape))\n",
    "# if we simply use this model, we suffer from a terrible bug in batch-norm"
   ]
  },
  {
   "cell_type": "code",
   "execution_count": 114,
   "id": "c3b15254",
   "metadata": {},
   "outputs": [
    {
     "data": {
      "text/plain": [
       "torch.Size([1, 1, 200])"
      ]
     },
     "execution_count": 114,
     "metadata": {},
     "output_type": "execute_result"
    }
   ],
   "source": [
    "model.layers[3].running_mean.shape"
   ]
  },
  {
   "cell_type": "code",
   "execution_count": 112,
   "id": "c2c8c052",
   "metadata": {},
   "outputs": [
    {
     "name": "stdout",
     "output_type": "stream",
     "text": [
      "      0/ 200000 : 3.3167\n"
     ]
    }
   ],
   "source": [
    "max_steps = 200000\n",
    "batch_size = 32\n",
    "\n",
    "lossi = []\n",
    "\n",
    "for i in range(max_steps):\n",
    "\n",
    "    # forwards pass\n",
    "    ix = torch.randint(0,xtr.shape[0],(batch_size,))\n",
    "    xb , yb = xtr[ix], ytr[ix] # x and y of this batch\n",
    "\n",
    "    logits = model(xb)\n",
    "    \n",
    "    loss = F.cross_entropy(logits,yb)\n",
    "\n",
    "    # backward pass\n",
    "    for p in parameters:\n",
    "        p.grad = None\n",
    "    \n",
    "    loss.backward()\n",
    "\n",
    "    # update\n",
    "    lr = 0.1 if i < 150000 else 0.01\n",
    "    for p in parameters:\n",
    "        p.data += -lr * p.grad\n",
    "\n",
    "    # loss tracking and logging\n",
    "    if i%1000 == 0:\n",
    "        print(f\"{i:7d}/{max_steps:7d} : {loss.item():.4f}\")\n",
    "    lossi.append(loss.log10().item())\n",
    "\n",
    "    break    \n"
   ]
  },
  {
   "cell_type": "code",
   "execution_count": 653,
   "id": "79a097d1",
   "metadata": {},
   "outputs": [
    {
     "data": {
      "image/png": "[encoded data removed]",
      "text/plain": [
       "<Figure size 640x480 with 1 Axes>"
      ]
     },
     "metadata": {},
     "output_type": "display_data"
    }
   ],
   "source": [
    "x = torch.tensor(lossi).view(-1,1000)\n",
    "x = 10**x #to unravel the Log10\n",
    "\n",
    "plt.plot(x.mean(1,keepdim=True));"
   ]
  },
  {
   "cell_type": "code",
   "execution_count": 654,
   "id": "d7859b97",
   "metadata": {},
   "outputs": [],
   "source": [
    "# putting layers in eval mode\n",
    "for layer in model.layers:\n",
    "    layer.training = False"
   ]
  },
  {
   "cell_type": "code",
   "execution_count": 655,
   "id": "028a4d92",
   "metadata": {},
   "outputs": [
    {
     "name": "stdout",
     "output_type": "stream",
     "text": [
      "train loss: 1.9068\n",
      "val loss: 2.0458\n"
     ]
    }
   ],
   "source": [
    "# model evaluation\n",
    "@torch.no_grad\n",
    "def calc_loss(x,y,dataset:str):\n",
    "    logits = model(x)\n",
    "    loss = F.cross_entropy(logits,y)\n",
    "    print(f'{dataset} loss: {loss.item():.4f}')\n",
    "\n",
    "calc_loss(xtr,ytr,'train')\n",
    "calc_loss(xval,yval,'val')"
   ]
  },
  {
   "cell_type": "markdown",
   "id": "a0c99c82",
   "metadata": {},
   "source": [
    "### Performance Log\n",
    "1. Original - 3 Context length + 200hidden layer, BatchNorm\n",
    "    - Context Lenght = *3*\n",
    "    - Total Params = **12K**\n",
    "    - train loss: **2.0331**\n",
    "    - val loss: **2.1094**\n",
    "2. Increased Context - 8 Context length, rest same\n",
    "    - Context Lenght = *8*\n",
    "    - Total Params = **22K**\n",
    "    - train loss: **1.9068**\n",
    "    - val loss: **2.0458**\n",
    "3. "
   ]
  },
  {
   "cell_type": "code",
   "execution_count": 656,
   "id": "d29efff7",
   "metadata": {},
   "outputs": [
    {
     "name": "stdout",
     "output_type": "stream",
     "text": [
      "besar.\n",
      "rejian.\n",
      "rosiree.\n",
      "inzova.\n",
      "berce.\n",
      "enha.\n",
      "fabus.\n",
      "khys.\n",
      "lumar.\n",
      "sumai.\n",
      "chesae.\n",
      "luci.\n",
      "live.\n",
      "kwain.\n",
      "aharloth.\n",
      "henar.\n",
      "jahtencer.\n",
      "edess.\n",
      "azot.\n",
      "elifia.\n"
     ]
    }
   ],
   "source": [
    "for _ in range(20):\n",
    "    out = []\n",
    "    context = [0] * block_size\n",
    "\n",
    "    while True:\n",
    "        '''\n",
    "        we convert each row into a probability matrix, and then do multinomial sampling from it, wherein each sample\n",
    "        is a index of the invidiual item in the original row, which is most likely\n",
    "        ''' \n",
    "        logits =  model(torch.tensor([context]))\n",
    "        probs = torch.softmax(logits,dim=1)\n",
    "        # ----------------------\n",
    "        ix = torch.multinomial(probs,num_samples=1).item()\n",
    "        context = context[1:] + [ix]\n",
    "        out.append(ix)\n",
    "        if ix==0:\n",
    "            break\n",
    "\n",
    "    print(''.join(itos[i] for i in out))"
   ]
  },
  {
   "cell_type": "markdown",
   "id": "7f23f635",
   "metadata": {},
   "source": [
    "tina.\n",
    "aubrilyn.\n",
    "amontaislandy.\n",
    "mathalayanniella.\n",
    "micaba.\n",
    "jamel.\n",
    "kalaya.\n",
    "guna.\n",
    "cri.\n",
    "kenna.\n",
    "omary.\n",
    "dalynn.\n",
    "jaixan.\n",
    "kaena.\n",
    "aith.\n",
    "rion.\n",
    "genesson.\n",
    "dhuki.\n",
    "kymbertlena.\n",
    "yer."
   ]
  },
  {
   "cell_type": "code",
   "execution_count": 630,
   "id": "567e96d8",
   "metadata": {},
   "outputs": [
    {
     "data": {
      "text/plain": [
       "tensor([[ 0.0315,  0.0763,  0.0155,  0.0186, -0.0072,  0.0967, -0.1415,  0.0550,\n",
       "          0.1330,  0.1224,  0.0171,  0.0627, -0.0111, -0.0412,  0.0131,  0.0780,\n",
       "         -0.0294,  0.0960,  0.0774, -0.0474, -0.1192,  0.0273,  0.0766,  0.0049,\n",
       "          0.1734,  0.0082,  0.0231]], grad_fn=<AddBackward0>)"
      ]
     },
     "execution_count": 630,
     "metadata": {},
     "output_type": "execute_result"
    }
   ],
   "source": [
    "context = [0] * block_size\n",
    "model(torch.tensor([context]))"
   ]
  }
 ],
 "metadata": {
  "kernelspec": {
   "display_name": "base",
   "language": "python",
   "name": "python3"
  },
  "language_info": {
   "codemirror_mode": {
    "name": "ipython",
    "version": 3
   },
   "file_extension": ".py",
   "mimetype": "text/x-python",
   "name": "python",
   "nbconvert_exporter": "python",
   "pygments_lexer": "ipython3",
   "version": "3.12.8"
  }
 },
 "nbformat": 4,
 "nbformat_minor": 5
}
