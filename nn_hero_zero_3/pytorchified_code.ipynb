{
 "cells": [
  {
   "cell_type": "code",
   "execution_count": 459,
   "id": "0a450a75",
   "metadata": {},
   "outputs": [],
   "source": [
    "import torch\n",
    "import matplotlib.pyplot as plt\n",
    "import torch.nn.functional as F\n",
    "import numpy as np\n",
    "from sklearn.model_selection import train_test_split"
   ]
  },
  {
   "cell_type": "code",
   "execution_count": 460,
   "id": "d307fbe3",
   "metadata": {},
   "outputs": [],
   "source": [
    "with open('names.txt','r') as w:\n",
    "    names = w.read()\n",
    "    names = names.splitlines()"
   ]
  },
  {
   "cell_type": "code",
   "execution_count": 461,
   "id": "f9716c0f",
   "metadata": {},
   "outputs": [
    {
     "data": {
      "text/plain": [
       "32033"
      ]
     },
     "execution_count": 461,
     "metadata": {},
     "output_type": "execute_result"
    }
   ],
   "source": [
    "len(names)"
   ]
  },
  {
   "cell_type": "code",
   "execution_count": 462,
   "id": "95e1759f",
   "metadata": {},
   "outputs": [
    {
     "data": {
      "text/plain": [
       "<torch._C.Generator at 0x110ec2cf0>"
      ]
     },
     "execution_count": 462,
     "metadata": {},
     "output_type": "execute_result"
    }
   ],
   "source": [
    "torch.manual_seed(42)"
   ]
  },
  {
   "cell_type": "code",
   "execution_count": 463,
   "id": "865fc237",
   "metadata": {},
   "outputs": [],
   "source": [
    "chars = sorted(set(char for name in names for char in name))\n",
    "stoi = {s:i+1 for i,s in enumerate(chars)}\n",
    "stoi['.'] = 0\n",
    "itos = {i:s for s,i in stoi.items()}"
   ]
  },
  {
   "cell_type": "code",
   "execution_count": null,
   "id": "ac6a06e8",
   "metadata": {},
   "outputs": [],
   "source": [
    "from typing import Any\n",
    "\n",
    "def build_dataset(words:list[str],block_size=3):\n",
    "    #context length / how many chars do we need to predict the next word\n",
    "    x, y = [],[]\n",
    "\n",
    "    for w in words:\n",
    "        context = [0] * block_size\n",
    "\n",
    "        for char in w + '.':\n",
    "            ix = stoi[char]\n",
    "            x.append(context)\n",
    "            y.append(ix)\n",
    "            context = context[1:] + [ix]\n",
    "\n",
    "    x = torch.tensor(x)\n",
    "    y = torch.tensor(y)\n",
    "    return x,y\n",
    "\n",
    "\n",
    "def train_test_val_split(x:torch.Tensor, y:torch.Tensor, percent_train=0.7, percent_val=0.15)-> Any:\n",
    "    n = len(x)\n",
    "    \n",
    "    # torch equivalent of permutation\n",
    "    idxs = torch.randperm(n) #the best way to generate indices in random ordering\n",
    "    \n",
    "    n_train = int(n * percent_train)\n",
    "    n_val   = int(n * percent_val)\n",
    "    \n",
    "    train_idx = idxs[:n_train]\n",
    "    val_idx   = idxs[n_train:n_train+n_val]\n",
    "    test_idx  = idxs[n_train+n_val:]\n",
    "    \n",
    "    return (x[train_idx], y[train_idx],\n",
    "            x[test_idx], y[test_idx],\n",
    "            x[val_idx], y[val_idx],train_idx)"
   ]
  },
  {
   "cell_type": "code",
   "execution_count": 475,
   "id": "42cf6160",
   "metadata": {},
   "outputs": [],
   "source": [
    "x,y = build_dataset(names,8)"
   ]
  },
  {
   "cell_type": "code",
   "execution_count": 476,
   "id": "8d199259",
   "metadata": {},
   "outputs": [
    {
     "name": "stdout",
     "output_type": "stream",
     "text": [
      "........ --> e\n",
      ".......e --> m\n",
      "......em --> m\n",
      ".....emm --> a\n",
      "....emma --> .\n",
      "........ --> o\n",
      ".......o --> l\n",
      "......ol --> i\n",
      ".....oli --> v\n",
      "....oliv --> i\n",
      "...olivi --> a\n",
      "..olivia --> .\n",
      "........ --> a\n",
      ".......a --> v\n",
      "......av --> a\n",
      ".....ava --> .\n",
      "........ --> i\n",
      ".......i --> s\n",
      "......is --> a\n",
      ".....isa --> b\n"
     ]
    }
   ],
   "source": [
    "for x,y in zip(x[:20],y[:20]):\n",
    "    print(''.join(itos[ix.item()] for ix in x),'-->',itos[y.item()] )"
   ]
  },
  {
   "cell_type": "code",
   "execution_count": 548,
   "id": "c38a3928",
   "metadata": {},
   "outputs": [
    {
     "name": "stdout",
     "output_type": "stream",
     "text": [
      "228146\n",
      "159702 0.6999991233683693\n"
     ]
    }
   ],
   "source": [
    "x,y = build_dataset(names)\n",
    "print(len(x))\n",
    "xtr,ytr,xtest,ytest,xval,yval,train_idx = train_test_val_split(x,y)\n",
    "print(len(xtr),len(xtr)/len(x))"
   ]
  },
  {
   "cell_type": "code",
   "execution_count": 562,
   "id": "2f8f1906",
   "metadata": {},
   "outputs": [],
   "source": [
    "from typing import Any\n",
    "\n",
    "\n",
    "class Linear:\n",
    "\n",
    "    def __init__(self,fan_in,fan_out,bias=True):\n",
    "        self.weight = torch.randn((fan_in,fan_out))/fan_in**0.5 #kaiming init\n",
    "        self.bias = torch.zeros(fan_out) if bias else None\n",
    "\n",
    "    def __call__(self, x:torch.Tensor) -> Any:\n",
    "        self.out = x @ self.weight\n",
    "        if self.bias is not None:\n",
    "            self.out+= self.bias\n",
    "        return self.out\n",
    "    \n",
    "    def parameters(self):\n",
    "        return [self.weight] + ([] if self.bias is None else [self.bias] )\n",
    "    \n",
    "class BatchNorm1d:\n",
    "\n",
    "    def __init__(self,dim,eps=1e-5,momentum=0.1):\n",
    "        self.eps = eps\n",
    "        self.momentum = momentum\n",
    "        self.training = True\n",
    "\n",
    "        # to allow our nueral network to move the gaussian around as per convenience\n",
    "        self.gamma = torch.ones(dim) \n",
    "        self.beta = torch.zeros(dim)\n",
    "\n",
    "        # running mean and variance that will be get a small update per batchs\n",
    "        self.running_mean = torch.zeros(dim)\n",
    "        self.running_var = torch.ones(dim)\n",
    "\n",
    "    # This is how u will call a batch-norm on a layer\n",
    "    def __call__(self, x:torch.Tensor) -> Any:\n",
    "        if self.training:\n",
    "            xmean =  x.mean(0,keepdim=True)\n",
    "            xvar = x.var(0,keepdim=True,unbiased=False)\n",
    "\n",
    "        else:\n",
    "            xmean = self.running_mean\n",
    "            xvar = self.running_var\n",
    "        xhat = (x-xmean)/torch.sqrt(xvar+self.eps)\n",
    "        self.out = self.gamma * xhat + self.beta\n",
    "\n",
    "        if self.training:\n",
    "            # if we're training, we update the mean and var per batch in an exponential moving average style.\n",
    "            with torch.no_grad():\n",
    "                self.running_mean = (1-self.momentum)*self.running_mean + self.momentum*xmean\n",
    "                self.running_var = (1-self.momentum)*self.running_var + self.momentum*xvar\n",
    "        return self.out\n",
    "\n",
    "    def parameters(self):\n",
    "        return [self.gamma, self.beta]\n",
    "\n",
    "class Tanh:\n",
    "    \n",
    "    def __call__(self,x:torch.Tensor) -> Any:\n",
    "        self.out = torch.tanh(x)\n",
    "        return self.out\n",
    "    def parameters(self):\n",
    "        return []\n",
    "\n",
    "class embed:\n",
    "    # creating our embedding matrix so that each of the char can converted into n size embeddings\n",
    "    # essentially each character a,b,c will be represented by a matrix that is learnable\n",
    "    def __init__(self,n_embd,emb_dim):\n",
    "        self.weight = torch.randn((n_embd,emb_dim))\n",
    "    \n",
    "    def __call__(self, IX:torch.Tensor) -> Any:\n",
    "        self.out = self.weight[IX]\n",
    "        return self.out\n",
    "    \n",
    "    def parameters(self):\n",
    "        return [self.weight]\n",
    "\n",
    "class Flatten:\n",
    "    #reshape our embedding layer so that we can matmul using compatible shapes\n",
    "    def __call__(self,x:torch.Tensor):\n",
    "        self.out = x.view(x.shape[0],-1)\n",
    "        return self.out\n",
    "    def parameters(self):\n",
    "        return []"
   ]
  },
  {
   "cell_type": "code",
   "execution_count": 532,
   "id": "4c26c99a",
   "metadata": {},
   "outputs": [
    {
     "data": {
      "text/plain": [
       "tensor([25,  3,  8, 23, 10, 12, 11, 12, 16,  3, 24,  9, 17,  3,  6, 16,  8,  3,\n",
       "         1, 20,  1, 14, 23,  9,  3, 23, 20])"
      ]
     },
     "execution_count": 532,
     "metadata": {},
     "output_type": "execute_result"
    }
   ],
   "source": [
    "ix = torch.randint(0,27,(27,))\n",
    "ix"
   ]
  },
  {
   "cell_type": "code",
   "execution_count": 533,
   "id": "d423d8f4",
   "metadata": {},
   "outputs": [
    {
     "data": {
      "text/plain": [
       "'u'"
      ]
     },
     "execution_count": 533,
     "metadata": {},
     "output_type": "execute_result"
    }
   ],
   "source": [
    "itos[21]"
   ]
  },
  {
   "cell_type": "code",
   "execution_count": 534,
   "id": "62d1c2e5",
   "metadata": {},
   "outputs": [],
   "source": [
    "x = embed(27,3)\n",
    "C = x(ix)"
   ]
  },
  {
   "cell_type": "code",
   "execution_count": 536,
   "id": "bbbc4b7d",
   "metadata": {},
   "outputs": [
    {
     "data": {
      "text/plain": [
       "tensor([-1.2133,  0.9745,  0.4532])"
      ]
     },
     "execution_count": 536,
     "metadata": {},
     "output_type": "execute_result"
    }
   ],
   "source": [
    "C[21]"
   ]
  },
  {
   "cell_type": "code",
   "execution_count": 539,
   "id": "df47b0c3",
   "metadata": {},
   "outputs": [
    {
     "data": {
      "text/plain": [
       "tensor([-1.2133,  0.9745,  0.4532])"
      ]
     },
     "execution_count": 539,
     "metadata": {},
     "output_type": "execute_result"
    }
   ],
   "source": [
    "C[stoi['u']]"
   ]
  },
  {
   "cell_type": "code",
   "execution_count": 541,
   "id": "d844e3b9",
   "metadata": {},
   "outputs": [
    {
     "name": "stdout",
     "output_type": "stream",
     "text": [
      "12097\n"
     ]
    }
   ],
   "source": [
    "n_embd = 10\n",
    "n_hidden = 200\n",
    "vocab_size = len(stoi)\n",
    "block_size = 3\n",
    "\n",
    "C = torch.randn((vocab_size,n_embd))\n",
    "\n",
    "layers = [\n",
    "    Linear(n_embd*block_size,n_hidden,bias=False),BatchNorm1d(n_hidden),Tanh(),\n",
    "    Linear(n_hidden,vocab_size)]\n",
    "\n",
    "with torch.no_grad():\n",
    "    layers[-1].weight *= 0.1 #make softmax less confident\n",
    "\n",
    "parameters = [C] + [p for layer in layers for p in layer.parameters()]\n",
    "\n",
    "for p in parameters:\n",
    "    p.requires_grad = True\n",
    "\n",
    "print(sum(p.numel() for p in parameters))"
   ]
  },
  {
   "cell_type": "code",
   "execution_count": 549,
   "id": "ab676baf",
   "metadata": {},
   "outputs": [],
   "source": [
    "z = torch.randint(0,20000,(32,))"
   ]
  },
  {
   "cell_type": "code",
   "execution_count": 565,
   "id": "dadc1ec8",
   "metadata": {},
   "outputs": [
    {
     "data": {
      "text/plain": [
       "torch.Size([3])"
      ]
     },
     "execution_count": 565,
     "metadata": {},
     "output_type": "execute_result"
    }
   ],
   "source": [
    "x[9635].shape"
   ]
  },
  {
   "cell_type": "code",
   "execution_count": 566,
   "id": "938b0b45",
   "metadata": {},
   "outputs": [
    {
     "data": {
      "text/plain": [
       "torch.Size([3, 1])"
      ]
     },
     "execution_count": 566,
     "metadata": {},
     "output_type": "execute_result"
    }
   ],
   "source": [
    "a = Flatten()\n",
    "a(x[9635]).shape\n"
   ]
  },
  {
   "cell_type": "code",
   "execution_count": 558,
   "id": "0c7cef42",
   "metadata": {},
   "outputs": [
    {
     "data": {
      "text/plain": [
       "tensor([-0.8791,  1.5491,  0.0154, -0.0276, -0.0537, -0.7734, -1.3838,  0.9782,\n",
       "        -1.0310, -1.4264,  0.2686,  0.5349,  0.2829,  0.2560, -1.0973,  0.8444,\n",
       "        -0.4120,  1.7921, -0.7673, -1.3080, -0.4629, -1.6246, -0.1852, -0.3435,\n",
       "        -0.9828,  1.4724, -0.8553, -1.5335,  0.1289,  0.2891],\n",
       "       grad_fn=<ViewBackward0>)"
      ]
     },
     "execution_count": 558,
     "metadata": {},
     "output_type": "execute_result"
    }
   ],
   "source": [
    "C[x[9635]].view(-1)"
   ]
  },
  {
   "cell_type": "code",
   "execution_count": null,
   "id": "c2c8c052",
   "metadata": {},
   "outputs": [
    {
     "name": "stdout",
     "output_type": "stream",
     "text": [
      "      0/ 200000 : 3.3008\n",
      "   1000/ 200000 : 2.6147\n",
      "   2000/ 200000 : 2.1808\n",
      "   3000/ 200000 : 1.9745\n",
      "   4000/ 200000 : 2.5328\n",
      "   5000/ 200000 : 2.2018\n",
      "   6000/ 200000 : 2.2158\n",
      "   7000/ 200000 : 2.1342\n",
      "   8000/ 200000 : 2.1109\n",
      "   9000/ 200000 : 2.2559\n",
      "  10000/ 200000 : 1.9384\n",
      "  11000/ 200000 : 2.4166\n",
      "  12000/ 200000 : 2.0260\n",
      "  13000/ 200000 : 2.0473\n",
      "  14000/ 200000 : 2.2703\n",
      "  15000/ 200000 : 2.0166\n",
      "  16000/ 200000 : 2.0946\n",
      "  17000/ 200000 : 2.8566\n",
      "  18000/ 200000 : 2.6870\n",
      "  19000/ 200000 : 2.5936\n",
      "  20000/ 200000 : 2.1607\n",
      "  21000/ 200000 : 2.5791\n",
      "  22000/ 200000 : 2.4159\n",
      "  23000/ 200000 : 1.8262\n",
      "  24000/ 200000 : 2.0463\n",
      "  25000/ 200000 : 1.9648\n",
      "  26000/ 200000 : 2.1545\n",
      "  27000/ 200000 : 2.2416\n",
      "  28000/ 200000 : 2.1003\n",
      "  29000/ 200000 : 2.2928\n",
      "  30000/ 200000 : 2.0351\n",
      "  31000/ 200000 : 2.3542\n",
      "  32000/ 200000 : 2.2865\n",
      "  33000/ 200000 : 2.1010\n",
      "  34000/ 200000 : 1.6417\n",
      "  35000/ 200000 : 2.1609\n",
      "  36000/ 200000 : 2.1641\n",
      "  37000/ 200000 : 1.8390\n",
      "  38000/ 200000 : 2.0597\n",
      "  39000/ 200000 : 2.4833\n",
      "  40000/ 200000 : 2.1458\n",
      "  41000/ 200000 : 2.0887\n",
      "  42000/ 200000 : 2.0543\n",
      "  43000/ 200000 : 2.1384\n",
      "  44000/ 200000 : 2.1988\n",
      "  45000/ 200000 : 2.3221\n",
      "  46000/ 200000 : 1.9961\n",
      "  47000/ 200000 : 2.4126\n",
      "  48000/ 200000 : 2.2060\n",
      "  49000/ 200000 : 2.1404\n",
      "  50000/ 200000 : 2.2359\n",
      "  51000/ 200000 : 2.1695\n",
      "  52000/ 200000 : 2.1011\n",
      "  53000/ 200000 : 1.9251\n",
      "  54000/ 200000 : 2.0213\n",
      "  55000/ 200000 : 1.9953\n",
      "  56000/ 200000 : 2.1692\n",
      "  57000/ 200000 : 2.3262\n",
      "  58000/ 200000 : 2.1979\n",
      "  59000/ 200000 : 2.5539\n",
      "  60000/ 200000 : 2.0202\n",
      "  61000/ 200000 : 1.8999\n",
      "  62000/ 200000 : 2.2616\n",
      "  63000/ 200000 : 2.5621\n",
      "  64000/ 200000 : 2.0836\n",
      "  65000/ 200000 : 2.2399\n",
      "  66000/ 200000 : 2.4264\n",
      "  67000/ 200000 : 1.7807\n",
      "  68000/ 200000 : 2.0315\n",
      "  69000/ 200000 : 2.1726\n",
      "  70000/ 200000 : 2.2886\n",
      "  71000/ 200000 : 2.1300\n",
      "  72000/ 200000 : 1.9799\n",
      "  73000/ 200000 : 2.4479\n",
      "  74000/ 200000 : 2.4227\n",
      "  75000/ 200000 : 2.1754\n",
      "  76000/ 200000 : 1.9113\n",
      "  77000/ 200000 : 2.1317\n",
      "  78000/ 200000 : 2.2948\n",
      "  79000/ 200000 : 1.7116\n",
      "  80000/ 200000 : 2.0801\n",
      "  81000/ 200000 : 2.1847\n",
      "  82000/ 200000 : 2.3787\n",
      "  83000/ 200000 : 2.3593\n",
      "  84000/ 200000 : 2.4896\n",
      "  85000/ 200000 : 2.5768\n",
      "  86000/ 200000 : 2.5513\n",
      "  87000/ 200000 : 2.2782\n",
      "  88000/ 200000 : 2.3084\n",
      "  89000/ 200000 : 2.4446\n",
      "  90000/ 200000 : 2.3364\n",
      "  91000/ 200000 : 1.7958\n",
      "  92000/ 200000 : 2.3609\n",
      "  93000/ 200000 : 1.9811\n",
      "  94000/ 200000 : 1.9580\n",
      "  95000/ 200000 : 2.2492\n",
      "  96000/ 200000 : 2.3785\n",
      "  97000/ 200000 : 1.8542\n",
      "  98000/ 200000 : 2.3266\n",
      "  99000/ 200000 : 1.9875\n",
      " 100000/ 200000 : 1.9923\n",
      " 101000/ 200000 : 2.3874\n",
      " 102000/ 200000 : 2.4124\n",
      " 103000/ 200000 : 2.2910\n",
      " 104000/ 200000 : 2.5741\n",
      " 105000/ 200000 : 2.1440\n",
      " 106000/ 200000 : 2.4420\n",
      " 107000/ 200000 : 2.4479\n",
      " 108000/ 200000 : 2.2295\n",
      " 109000/ 200000 : 2.1036\n",
      " 110000/ 200000 : 1.9031\n",
      " 111000/ 200000 : 2.1740\n",
      " 112000/ 200000 : 2.2494\n",
      " 113000/ 200000 : 2.3832\n",
      " 114000/ 200000 : 2.0591\n",
      " 115000/ 200000 : 2.7270\n",
      " 116000/ 200000 : 1.9810\n",
      " 117000/ 200000 : 2.1743\n",
      " 118000/ 200000 : 1.9638\n",
      " 119000/ 200000 : 1.8555\n",
      " 120000/ 200000 : 1.9435\n",
      " 121000/ 200000 : 2.3396\n",
      " 122000/ 200000 : 2.3184\n",
      " 123000/ 200000 : 2.0547\n",
      " 124000/ 200000 : 2.1335\n",
      " 125000/ 200000 : 1.9596\n",
      " 126000/ 200000 : 2.0476\n",
      " 127000/ 200000 : 2.3567\n",
      " 128000/ 200000 : 2.3037\n",
      " 129000/ 200000 : 1.5746\n",
      " 130000/ 200000 : 2.0310\n",
      " 131000/ 200000 : 2.0926\n",
      " 132000/ 200000 : 2.0471\n",
      " 133000/ 200000 : 1.9459\n",
      " 134000/ 200000 : 2.1095\n",
      " 135000/ 200000 : 2.1025\n",
      " 136000/ 200000 : 2.2273\n",
      " 137000/ 200000 : 2.3311\n",
      " 138000/ 200000 : 2.8200\n",
      " 139000/ 200000 : 2.2153\n",
      " 140000/ 200000 : 2.2724\n",
      " 141000/ 200000 : 1.9253\n",
      " 142000/ 200000 : 2.3074\n",
      " 143000/ 200000 : 2.2397\n",
      " 144000/ 200000 : 2.3402\n",
      " 145000/ 200000 : 2.0323\n",
      " 146000/ 200000 : 2.3244\n",
      " 147000/ 200000 : 1.9875\n",
      " 148000/ 200000 : 1.8648\n",
      " 149000/ 200000 : 2.1633\n",
      " 150000/ 200000 : 2.0892\n",
      " 151000/ 200000 : 2.1559\n",
      " 152000/ 200000 : 1.9059\n",
      " 153000/ 200000 : 1.9351\n",
      " 154000/ 200000 : 1.9402\n",
      " 155000/ 200000 : 2.0654\n",
      " 156000/ 200000 : 2.1258\n",
      " 157000/ 200000 : 1.7528\n",
      " 158000/ 200000 : 1.8817\n",
      " 159000/ 200000 : 1.8634\n",
      " 160000/ 200000 : 1.9249\n",
      " 161000/ 200000 : 1.7556\n",
      " 162000/ 200000 : 2.3852\n",
      " 163000/ 200000 : 2.3213\n",
      " 164000/ 200000 : 2.1243\n",
      " 165000/ 200000 : 1.9415\n",
      " 166000/ 200000 : 2.1127\n",
      " 167000/ 200000 : 2.1360\n",
      " 168000/ 200000 : 2.1378\n",
      " 169000/ 200000 : 2.1030\n",
      " 170000/ 200000 : 2.1886\n",
      " 171000/ 200000 : 2.1452\n",
      " 172000/ 200000 : 2.4163\n",
      " 173000/ 200000 : 1.8127\n",
      " 174000/ 200000 : 2.2044\n",
      " 175000/ 200000 : 2.4086\n",
      " 176000/ 200000 : 2.0064\n",
      " 177000/ 200000 : 2.0861\n",
      " 178000/ 200000 : 2.3682\n",
      " 179000/ 200000 : 2.1856\n",
      " 180000/ 200000 : 1.5386\n",
      " 181000/ 200000 : 2.4925\n",
      " 182000/ 200000 : 1.8086\n",
      " 183000/ 200000 : 2.1666\n",
      " 184000/ 200000 : 2.1487\n",
      " 185000/ 200000 : 2.0614\n",
      " 186000/ 200000 : 1.6744\n",
      " 187000/ 200000 : 2.6471\n",
      " 188000/ 200000 : 2.4430\n",
      " 189000/ 200000 : 2.0180\n",
      " 190000/ 200000 : 2.4070\n",
      " 191000/ 200000 : 1.8165\n",
      " 192000/ 200000 : 2.0108\n",
      " 193000/ 200000 : 2.2504\n",
      " 194000/ 200000 : 1.8748\n",
      " 195000/ 200000 : 2.2056\n",
      " 196000/ 200000 : 2.1031\n",
      " 197000/ 200000 : 2.2086\n",
      " 198000/ 200000 : 1.7704\n",
      " 199000/ 200000 : 2.0938\n"
     ]
    }
   ],
   "source": [
    "max_steps = 200000\n",
    "batch_size = 32\n",
    "\n",
    "lossi = []\n",
    "\n",
    "for i in range(max_steps):\n",
    "\n",
    "    # forwards pass\n",
    "    ix = torch.randint(0,xtr.shape[0],(batch_size,))\n",
    "    xb , yb = xtr[ix], ytr[ix] # x and y of this batch\n",
    "    emb = C[xb] #embed the x's\n",
    "\n",
    "    # reshape emb so that is one long vector of 3's pairs\n",
    "    x = emb.view(emb.shape[0],-1)\n",
    "    \n",
    "    for layer in layers:\n",
    "        x = layer(x)\n",
    "    \n",
    "\n",
    "    loss = F.cross_entropy(x,yb)\n",
    "\n",
    "    # backward pass\n",
    "    for p in parameters:\n",
    "        p.grad = None\n",
    "    \n",
    "    loss.backward()\n",
    "\n",
    "    # update\n",
    "    lr = 0.1 if i < 150000 else 0.01\n",
    "    for p in parameters:\n",
    "        p.data += -lr * p.grad\n",
    "\n",
    "    # loss tracking and logging\n",
    "    if i%1000 == 0:\n",
    "        print(f\"{i:7d}/{max_steps:7d} : {loss.item():.4f}\")\n",
    "    lossi.append(loss.log10().item())\n",
    "    \n"
   ]
  },
  {
   "cell_type": "code",
   "execution_count": null,
   "id": "79a097d1",
   "metadata": {},
   "outputs": [
    {
     "data": {
      "image/png": "[encoded data removed]",
      "text/plain": [
       "<Figure size 640x480 with 1 Axes>"
      ]
     },
     "metadata": {},
     "output_type": "display_data"
    }
   ],
   "source": [
    "x = torch.tensor(lossi).view(-1,1000)\n",
    "x = 10**x #to unravel the Log10\n",
    "\n",
    "plt.plot(x.mean(1,keepdim=True));"
   ]
  },
  {
   "cell_type": "code",
   "execution_count": null,
   "id": "d7859b97",
   "metadata": {},
   "outputs": [],
   "source": [
    "# putting layers in eval mode\n",
    "for layer in layers:\n",
    "    layer.training = False"
   ]
  },
  {
   "cell_type": "code",
   "execution_count": null,
   "id": "028a4d92",
   "metadata": {},
   "outputs": [
    {
     "name": "stdout",
     "output_type": "stream",
     "text": [
      "train loss: 2.0541\n",
      "val loss: 2.1087\n"
     ]
    }
   ],
   "source": [
    "# model evaluation\n",
    "@torch.no_grad\n",
    "def calc_loss(x,y,dataset:str):\n",
    "    emb = C[x]\n",
    "    x = emb.view(emb.shape[0],-1)\n",
    "\n",
    "    for layer in layers:\n",
    "        x = layer(x)\n",
    "    loss = F.cross_entropy(x,y)\n",
    "    print(f'{dataset} loss: {loss.item():.4f}')\n",
    "\n",
    "calc_loss(xtr,ytr,'train')\n",
    "calc_loss(xval,yval,'val')"
   ]
  },
  {
   "cell_type": "code",
   "execution_count": null,
   "id": "d29efff7",
   "metadata": {},
   "outputs": [
    {
     "name": "stdout",
     "output_type": "stream",
     "text": [
      "kammieky.\n",
      "aley.\n",
      "caelyssonishiah.\n",
      "midendeneas.\n",
      "deckley.\n",
      "skora.\n",
      "styn.\n",
      "ankita.\n",
      "abrigilaiah.\n",
      "cene.\n",
      "els.\n",
      "myrahnigh.\n",
      "anni.\n",
      "devilia.\n",
      "prennosem.\n",
      "lesilisley.\n",
      "khalli.\n",
      "ameecon.\n",
      "bellah.\n",
      "gabrider.\n"
     ]
    }
   ],
   "source": [
    "for _ in range(20):\n",
    "    out = []\n",
    "    context = [0] * block_size\n",
    "\n",
    "    while True:\n",
    "        '''\n",
    "        we convert each row into a probability matrix, and then do multinomial sampling from it, wherein each sample\n",
    "        is a index of the invidiual item in the original row, which is most likely\n",
    "        ''' \n",
    "        emb = C[torch.tensor([context])]\n",
    "        x = emb.view(emb.shape[0],-1)\n",
    "        for layer in layers:\n",
    "            x = layer(x)\n",
    "        logits = x\n",
    "        probs = torch.softmax(logits,dim=1)\n",
    "        # ----------------------\n",
    "        ix = torch.multinomial(probs,num_samples=1).item()\n",
    "        context = context[1:] + [ix]\n",
    "        out.append(ix)\n",
    "        if ix==0:\n",
    "            break\n",
    "\n",
    "    print(''.join(itos[i] for i in out))"
   ]
  }
 ],
 "metadata": {
  "kernelspec": {
   "display_name": "base",
   "language": "python",
   "name": "python3"
  },
  "language_info": {
   "codemirror_mode": {
    "name": "ipython",
    "version": 3
   },
   "file_extension": ".py",
   "mimetype": "text/x-python",
   "name": "python",
   "nbconvert_exporter": "python",
   "pygments_lexer": "ipython3",
   "version": "3.12.8"
  }
 },
 "nbformat": 4,
 "nbformat_minor": 5
}
