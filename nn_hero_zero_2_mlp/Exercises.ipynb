{
 "cells": [
  {
   "cell_type": "markdown",
   "id": "79b24f39",
   "metadata": {},
   "source": [
    "## 1. Tune Hyperparameters (Val. loss < 2.2)"
   ]
  },
  {
   "cell_type": "code",
   "execution_count": 3,
   "id": "0934136f",
   "metadata": {},
   "outputs": [],
   "source": [
    "with open('names.txt','r') as w:\n",
    "    names = w.read()\n",
    "    names = names.splitlines()"
   ]
  },
  {
   "cell_type": "code",
   "execution_count": 5,
   "id": "215033cd",
   "metadata": {},
   "outputs": [
    {
     "data": {
      "text/plain": [
       "['emma', 'olivia', 'ava', 'isabella', 'sophia']"
      ]
     },
     "execution_count": 5,
     "metadata": {},
     "output_type": "execute_result"
    }
   ],
   "source": [
    "names[:5]"
   ]
  },
  {
   "cell_type": "code",
   "execution_count": 6,
   "id": "66d22b03",
   "metadata": {},
   "outputs": [],
   "source": [
    "chars = sorted(list(set(\"\".join(names))))\n",
    "stoi = {s:idx + 1 for idx, s in enumerate(chars)}\n",
    "stoi[\".\"] = 0\n",
    "itos = {idx: s for s, idx in stoi.items()}"
   ]
  }
 ],
 "metadata": {
  "kernelspec": {
   "display_name": "base",
   "language": "python",
   "name": "python3"
  },
  "language_info": {
   "codemirror_mode": {
    "name": "ipython",
    "version": 3
   },
   "file_extension": ".py",
   "mimetype": "text/x-python",
   "name": "python",
   "nbconvert_exporter": "python",
   "pygments_lexer": "ipython3",
   "version": "3.12.8"
  }
 },
 "nbformat": 4,
 "nbformat_minor": 5
}
