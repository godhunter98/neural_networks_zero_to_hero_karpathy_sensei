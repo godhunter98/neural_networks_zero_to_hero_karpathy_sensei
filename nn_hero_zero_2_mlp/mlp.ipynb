{
 "cells": [
  {
   "cell_type": "code",
   "execution_count": 771,
   "id": "afa99189",
   "metadata": {},
   "outputs": [],
   "source": [
    "import torch\n",
    "import matplotlib.pyplot as plt\n",
    "import torch.nn.functional as F\n",
    "device = torch.device(\"mps\" if torch.backends.mps.is_available() else \"cpu\")"
   ]
  },
  {
   "cell_type": "code",
   "execution_count": 772,
   "id": "eb4cc0c6",
   "metadata": {},
   "outputs": [
    {
     "data": {
      "text/plain": [
       "True"
      ]
     },
     "execution_count": 772,
     "metadata": {},
     "output_type": "execute_result"
    }
   ],
   "source": [
    "# using the Apple metal framework to move tensors to GPU\n",
    "torch.backends.mps.is_available()"
   ]
  },
  {
   "cell_type": "code",
   "execution_count": 773,
   "id": "374f5b52",
   "metadata": {},
   "outputs": [],
   "source": [
    "with open('names.txt','r') as w:\n",
    "    names = w.read()\n",
    "    names = names.splitlines()"
   ]
  },
  {
   "cell_type": "code",
   "execution_count": 774,
   "id": "a91d8392",
   "metadata": {},
   "outputs": [
    {
     "data": {
      "text/plain": [
       "['emma', 'olivia', 'ava', 'isabella', 'sophia']"
      ]
     },
     "execution_count": 774,
     "metadata": {},
     "output_type": "execute_result"
    }
   ],
   "source": [
    "names[:5]"
   ]
  },
  {
   "cell_type": "code",
   "execution_count": 775,
   "id": "cdf09cf3",
   "metadata": {},
   "outputs": [
    {
     "data": {
      "text/plain": [
       "32033"
      ]
     },
     "execution_count": 775,
     "metadata": {},
     "output_type": "execute_result"
    }
   ],
   "source": [
    "len(names)"
   ]
  },
  {
   "cell_type": "code",
   "execution_count": 776,
   "id": "ab142f56",
   "metadata": {},
   "outputs": [
    {
     "name": "stdout",
     "output_type": "stream",
     "text": [
      "{'a': 1, 'b': 2, 'c': 3, 'd': 4, 'e': 5, 'f': 6, 'g': 7, 'h': 8, 'i': 9, 'j': 10, 'k': 11, 'l': 12, 'm': 13, 'n': 14, 'o': 15, 'p': 16, 'q': 17, 'r': 18, 's': 19, 't': 20, 'u': 21, 'v': 22, 'w': 23, 'x': 24, 'y': 25, 'z': 26, '.': 0}\n",
      "{1: 'a', 2: 'b', 3: 'c', 4: 'd', 5: 'e', 6: 'f', 7: 'g', 8: 'h', 9: 'i', 10: 'j', 11: 'k', 12: 'l', 13: 'm', 14: 'n', 15: 'o', 16: 'p', 17: 'q', 18: 'r', 19: 's', 20: 't', 21: 'u', 22: 'v', 23: 'w', 24: 'x', 25: 'y', 26: 'z', 0: '.'}\n"
     ]
    }
   ],
   "source": [
    "chars = sorted(list(set(''.join(names))))\n",
    "stoi = {s:i+1 for i,s in enumerate(chars)}\n",
    "stoi['.'] = 0\n",
    "itos= {s:i for i,s in stoi.items()}\n",
    "print(stoi)\n",
    "print(itos)"
   ]
  },
  {
   "cell_type": "code",
   "execution_count": 777,
   "id": "f1b98092",
   "metadata": {},
   "outputs": [],
   "source": [
    "block_size = 3\n",
    "\n",
    "x, y = [], []\n",
    "\n",
    "for w in names:\n",
    "    \n",
    "    # print(w)\n",
    "\n",
    "    context = [0] * block_size\n",
    "\n",
    "    for ch in w + '.':\n",
    "        ix = stoi[ch]\n",
    "        x.append(context)\n",
    "        y.append(ix)\n",
    "\n",
    "        # print(''.join(itos[i] for i in context),'--->',itos[ix])\n",
    "\n",
    "        context = context[1:] + [ix]\n",
    "\n",
    "x = torch.tensor(x)\n",
    "y = torch.tensor(y)"
   ]
  },
  {
   "cell_type": "code",
   "execution_count": 778,
   "id": "f18f7295",
   "metadata": {},
   "outputs": [
    {
     "data": {
      "text/plain": [
       "(tensor([[ 0,  0,  0],\n",
       "         [ 0,  0,  5],\n",
       "         [ 0,  5, 13],\n",
       "         [ 5, 13, 13]]),\n",
       " tensor([ 5, 13, 13,  1]))"
      ]
     },
     "execution_count": 778,
     "metadata": {},
     "output_type": "execute_result"
    }
   ],
   "source": [
    "x[:4],y[:4]"
   ]
  },
  {
   "cell_type": "markdown",
   "id": "7ba5cbfa",
   "metadata": {},
   "source": [
    "Now we embedd our 27 characters into a 2-D space."
   ]
  },
  {
   "cell_type": "code",
   "execution_count": 779,
   "id": "055af374",
   "metadata": {},
   "outputs": [],
   "source": [
    "C = torch.randn((27,2))"
   ]
  },
  {
   "cell_type": "markdown",
   "id": "c8040148",
   "metadata": {},
   "source": [
    "### Below we do some tensor gymnastics to see how effective pytorch indexing is and how we can simply index into C from x using C[x]."
   ]
  },
  {
   "cell_type": "code",
   "execution_count": 780,
   "id": "56ace601",
   "metadata": {},
   "outputs": [
    {
     "data": {
      "text/plain": [
       "(tensor([[0, 0, 0],\n",
       "         [0, 0, 5]]),\n",
       " torch.Size([2, 3]))"
      ]
     },
     "execution_count": 780,
     "metadata": {},
     "output_type": "execute_result"
    }
   ],
   "source": [
    "x[:2], x[:2].shape"
   ]
  },
  {
   "cell_type": "code",
   "execution_count": 781,
   "id": "2305b637",
   "metadata": {},
   "outputs": [
    {
     "data": {
      "text/plain": [
       "tensor(1)"
      ]
     },
     "execution_count": 781,
     "metadata": {},
     "output_type": "execute_result"
    }
   ],
   "source": [
    "x[13,2]"
   ]
  },
  {
   "cell_type": "code",
   "execution_count": 782,
   "id": "45915a1d",
   "metadata": {},
   "outputs": [
    {
     "data": {
      "text/plain": [
       "tensor([ 1.2569, -0.1743])"
      ]
     },
     "execution_count": 782,
     "metadata": {},
     "output_type": "execute_result"
    }
   ],
   "source": [
    "C[x[13]][2]"
   ]
  },
  {
   "cell_type": "code",
   "execution_count": 783,
   "id": "b90d91e8",
   "metadata": {},
   "outputs": [
    {
     "data": {
      "text/plain": [
       "tensor([ 1.2569, -0.1743])"
      ]
     },
     "execution_count": 783,
     "metadata": {},
     "output_type": "execute_result"
    }
   ],
   "source": [
    "C[1]"
   ]
  },
  {
   "cell_type": "code",
   "execution_count": 784,
   "id": "937b44ed",
   "metadata": {},
   "outputs": [
    {
     "data": {
      "text/plain": [
       "tensor([[ 1.2569, -0.1743],\n",
       "        [ 0.3862, -0.5357],\n",
       "        [-0.3077, -1.0447]])"
      ]
     },
     "execution_count": 784,
     "metadata": {},
     "output_type": "execute_result"
    }
   ],
   "source": [
    "C[[1,2,3]]"
   ]
  },
  {
   "cell_type": "code",
   "execution_count": 785,
   "id": "1de17fcf",
   "metadata": {},
   "outputs": [
    {
     "data": {
      "text/plain": [
       "(tensor([[[ 1.5709,  0.8534],\n",
       "          [ 1.5709,  0.8534],\n",
       "          [ 1.5709,  0.8534]],\n",
       " \n",
       "         [[ 1.5709,  0.8534],\n",
       "          [ 1.5709,  0.8534],\n",
       "          [ 1.2772, -1.2784]]]),\n",
       " torch.Size([2, 3, 2]))"
      ]
     },
     "execution_count": 785,
     "metadata": {},
     "output_type": "execute_result"
    }
   ],
   "source": [
    "C[x[:2]], C[x[:2]].shape"
   ]
  },
  {
   "cell_type": "markdown",
   "id": "d19458de",
   "metadata": {},
   "source": [
    "## Now we implement the embedding lookup table"
   ]
  },
  {
   "cell_type": "code",
   "execution_count": 786,
   "id": "9dc44a7d",
   "metadata": {},
   "outputs": [
    {
     "data": {
      "text/plain": [
       "torch.Size([228146, 3, 2])"
      ]
     },
     "execution_count": 786,
     "metadata": {},
     "output_type": "execute_result"
    }
   ],
   "source": [
    "emb = C[x]\n",
    "emb.shape"
   ]
  },
  {
   "cell_type": "code",
   "execution_count": 787,
   "id": "bacbcd09",
   "metadata": {},
   "outputs": [],
   "source": [
    "W1 = torch.randn((6,100))\n",
    "b1 = torch.randn(100)"
   ]
  },
  {
   "cell_type": "code",
   "execution_count": 788,
   "id": "2a7bffe3",
   "metadata": {},
   "outputs": [
    {
     "data": {
      "text/plain": [
       "(torch.Size([6, 100]), torch.Size([100]))"
      ]
     },
     "execution_count": 788,
     "metadata": {},
     "output_type": "execute_result"
    }
   ],
   "source": [
    "W1.shape, b1.shape"
   ]
  },
  {
   "cell_type": "code",
   "execution_count": 789,
   "id": "b7a5dfe3",
   "metadata": {},
   "outputs": [
    {
     "data": {
      "text/plain": [
       "torch.Size([228146, 3, 2])"
      ]
     },
     "execution_count": 789,
     "metadata": {},
     "output_type": "execute_result"
    }
   ],
   "source": [
    "emb.size()"
   ]
  },
  {
   "cell_type": "markdown",
   "id": "09b9d51c",
   "metadata": {},
   "source": [
    "## To move our inputs to the next layer we would want to do \n",
    "1. emb @ W1 + b\n",
    "2. But, we can't do that as emb and W1 are not shape compatible\n",
    "3. So we do something familiar, i.e reshape/view of emb"
   ]
  },
  {
   "cell_type": "code",
   "execution_count": 790,
   "id": "139b5a8f",
   "metadata": {},
   "outputs": [
    {
     "data": {
      "text/plain": [
       "torch.Size([228146, 100])"
      ]
     },
     "execution_count": 790,
     "metadata": {},
     "output_type": "execute_result"
    }
   ],
   "source": [
    "# h = emb.view(32,6) @ W1 + b1 we change this in favour of below, as the magic -1 pops up.\n",
    "h = torch.tanh(emb.view(-1,6) @ W1 + b1) #also add a tanh to ensure ouputs btw -1 and 1, our non-linearity\n",
    "h.shape"
   ]
  },
  {
   "cell_type": "code",
   "execution_count": 791,
   "id": "32e0fa20",
   "metadata": {},
   "outputs": [],
   "source": [
    "W2 = torch.randn((100,27))\n",
    "b2 = torch.randn(27)"
   ]
  },
  {
   "cell_type": "code",
   "execution_count": 792,
   "id": "5bf0b1a3",
   "metadata": {},
   "outputs": [],
   "source": [
    "logits = h @ W2 + b2"
   ]
  },
  {
   "cell_type": "code",
   "execution_count": 793,
   "id": "07cc9050",
   "metadata": {},
   "outputs": [
    {
     "data": {
      "text/plain": [
       "torch.Size([228146, 27])"
      ]
     },
     "execution_count": 793,
     "metadata": {},
     "output_type": "execute_result"
    }
   ],
   "source": [
    "logits.shape"
   ]
  },
  {
   "cell_type": "code",
   "execution_count": 794,
   "id": "49018827",
   "metadata": {},
   "outputs": [],
   "source": [
    "counts = logits.exp()"
   ]
  },
  {
   "cell_type": "code",
   "execution_count": 795,
   "id": "f7dc5a3a",
   "metadata": {},
   "outputs": [],
   "source": [
    "probs = counts / counts.sum (1, keepdim = True)"
   ]
  },
  {
   "cell_type": "code",
   "execution_count": 796,
   "id": "c088781c",
   "metadata": {},
   "outputs": [
    {
     "data": {
      "text/plain": [
       "torch.Size([228146, 27])"
      ]
     },
     "execution_count": 796,
     "metadata": {},
     "output_type": "execute_result"
    }
   ],
   "source": [
    "probs.shape"
   ]
  },
  {
   "cell_type": "code",
   "execution_count": 797,
   "id": "069dee61",
   "metadata": {},
   "outputs": [
    {
     "ename": "IndexError",
     "evalue": "shape mismatch: indexing tensors could not be broadcast together with shapes [32], [228146]",
     "output_type": "error",
     "traceback": [
      "\u001b[0;31m---------------------------------------------------------------------------\u001b[0m",
      "\u001b[0;31mIndexError\u001b[0m                                Traceback (most recent call last)",
      "Cell \u001b[0;32mIn[797], line 2\u001b[0m\n\u001b[1;32m      1\u001b[0m \u001b[38;5;66;03m#  again why log, if the probability is very high, we get the output close to zero, else if close to zero, we get hugely -ve.\u001b[39;00m\n\u001b[0;32m----> 2\u001b[0m loss \u001b[38;5;241m=\u001b[39m \u001b[38;5;241m-\u001b[39mprobs[torch\u001b[38;5;241m.\u001b[39marange(\u001b[38;5;241m32\u001b[39m),y]\u001b[38;5;241m.\u001b[39mlog()\u001b[38;5;241m.\u001b[39mmean()\n\u001b[1;32m      3\u001b[0m loss\n",
      "\u001b[0;31mIndexError\u001b[0m: shape mismatch: indexing tensors could not be broadcast together with shapes [32], [228146]"
     ]
    }
   ],
   "source": [
    "#  again why log, if the probability is very high, we get the output close to zero, else if close to zero, we get hugely -ve.\n",
    "loss = -probs[torch.arange(32),y].log().mean()\n",
    "loss"
   ]
  },
  {
   "cell_type": "markdown",
   "id": "fee97728",
   "metadata": {},
   "source": [
    "## Lets make it respectable :)"
   ]
  },
  {
   "cell_type": "code",
   "execution_count": 798,
   "id": "f6e718b1",
   "metadata": {},
   "outputs": [
    {
     "data": {
      "text/plain": [
       "(torch.Size([228146, 3]), torch.Size([228146]))"
      ]
     },
     "execution_count": 798,
     "metadata": {},
     "output_type": "execute_result"
    }
   ],
   "source": [
    "x.shape, y.shape #dataset"
   ]
  },
  {
   "cell_type": "code",
   "execution_count": 806,
   "id": "07b8d36a",
   "metadata": {},
   "outputs": [],
   "source": [
    "# intialising all our embeddings, layers and biases\n",
    "g = torch.Generator().manual_seed(2147483647) \n",
    "C = torch.randn((27,2),generator=g)\n",
    "W1 = torch.randn((6,100),generator=g)\n",
    "b1 = torch.randn(100,generator=g)\n",
    "W2 = torch.randn((100,27),generator=g)\n",
    "b2 = torch.randn(27,generator=g)\n",
    "parameters = [C,W1,b1,W2,b2]"
   ]
  },
  {
   "cell_type": "code",
   "execution_count": 807,
   "id": "12a1e781",
   "metadata": {},
   "outputs": [
    {
     "data": {
      "text/plain": [
       "(tensor([[ 0,  0,  0],\n",
       "         [ 0,  0,  5],\n",
       "         [ 0,  5, 13],\n",
       "         ...,\n",
       "         [26, 26, 25],\n",
       "         [26, 25, 26],\n",
       "         [25, 26, 24]]),\n",
       " 3481)"
      ]
     },
     "execution_count": 807,
     "metadata": {},
     "output_type": "execute_result"
    }
   ],
   "source": [
    "z = []\n",
    "for p in parameters:\n",
    "    z.append(p.numel()) #numel returns the number of elements in the tensor\n",
    "x,sum(z)"
   ]
  },
  {
   "cell_type": "code",
   "execution_count": 808,
   "id": "2a8c2737",
   "metadata": {},
   "outputs": [
    {
     "data": {
      "text/plain": [
       "3481"
      ]
     },
     "execution_count": 808,
     "metadata": {},
     "output_type": "execute_result"
    }
   ],
   "source": [
    "sum(p.numel() for p in parameters)"
   ]
  },
  {
   "cell_type": "code",
   "execution_count": 802,
   "id": "f3193024",
   "metadata": {},
   "outputs": [
    {
     "data": {
      "text/plain": [
       "tensor(19.5052)"
      ]
     },
     "execution_count": 802,
     "metadata": {},
     "output_type": "execute_result"
    }
   ],
   "source": [
    "# forward pass\n",
    "emb = C[x]\n",
    "h = torch.tanh(emb.view(-1,6) @ W1 + b1) # (32,100)\n",
    "logits = h @ W2 + b2 # (32,27)\n",
    "\n",
    "## The below is a manual implemenation of negative log-likelihood loss or cross entropy loss, highly inefficient\n",
    "# counts = logits.exp()\n",
    "# probs = counts / counts.sum(1, keepdim=True)\n",
    "# loss = -probs[torch.arange(32),y].log().mean()\n",
    "\n",
    "loss = F.cross_entropy(logits,y) # we can always replace the manual implementation of cross entropy with the direct funtion call, as its much faster\n",
    "loss"
   ]
  },
  {
   "cell_type": "code",
   "execution_count": 809,
   "id": "34f3b3d9",
   "metadata": {},
   "outputs": [],
   "source": [
    "# enable gradient tracking\n",
    "for p in parameters:\n",
    "    p.requires_grad = True"
   ]
  },
  {
   "cell_type": "code",
   "execution_count": 818,
   "id": "8e045989",
   "metadata": {},
   "outputs": [
    {
     "name": "stdout",
     "output_type": "stream",
     "text": [
      "5.654982089996338\n",
      "4.8186492919921875\n",
      "4.190366268157959\n",
      "4.9438910484313965\n",
      "4.705173015594482\n",
      "3.991664409637451\n",
      "5.158417224884033\n",
      "3.690796136856079\n",
      "4.268844127655029\n",
      "3.672621965408325\n"
     ]
    }
   ],
   "source": [
    "from tqdm import trange\n",
    "\n",
    "for _ in range(10):\n",
    "\n",
    "    # minibatch initialisation\n",
    "    ix = torch.randint(0,x.shape[0],(32,))\n",
    "\n",
    "    # forward pass\n",
    "    emb = C[x[ix]]\n",
    "    h = torch.tanh(emb.view(-1,6) @ W1 + b1)\n",
    "    logits = h @ W2 + b2 \n",
    "    loss = F.cross_entropy(logits,y[ix]) \n",
    "    print(loss.item())\n",
    "\n",
    "    # backward pass\n",
    "    for p in parameters:\n",
    "        p.grad = None\n",
    "\n",
    "    loss.backward()\n",
    "\n",
    "    for p in parameters:\n",
    "        p.data += -0.1 * p.grad\n",
    "    \n",
    "    "
   ]
  },
  {
   "cell_type": "code",
   "execution_count": 811,
   "id": "9c19309c",
   "metadata": {},
   "outputs": [
    {
     "data": {
      "text/plain": [
       "torch.return_types.max(\n",
       "values=tensor([ 8.2985,  9.8879, 18.4876,  ..., 11.3038, 13.8946, 12.4195],\n",
       "       grad_fn=<MaxBackward0>),\n",
       "indices=tensor([ 9,  8,  9,  ..., 15, 11, 17]))"
      ]
     },
     "execution_count": 811,
     "metadata": {},
     "output_type": "execute_result"
    }
   ],
   "source": [
    "logits.max(1)"
   ]
  },
  {
   "cell_type": "code",
   "execution_count": 812,
   "id": "106fa0aa",
   "metadata": {},
   "outputs": [
    {
     "data": {
      "text/plain": [
       "tensor([ 5, 13, 13,  ..., 26, 24,  0])"
      ]
     },
     "execution_count": 812,
     "metadata": {},
     "output_type": "execute_result"
    }
   ],
   "source": [
    "y"
   ]
  }
 ],
 "metadata": {
  "kernelspec": {
   "display_name": "base",
   "language": "python",
   "name": "python3"
  },
  "language_info": {
   "codemirror_mode": {
    "name": "ipython",
    "version": 3
   },
   "file_extension": ".py",
   "mimetype": "text/x-python",
   "name": "python",
   "nbconvert_exporter": "python",
   "pygments_lexer": "ipython3",
   "version": "3.12.8"
  }
 },
 "nbformat": 4,
 "nbformat_minor": 5
}
