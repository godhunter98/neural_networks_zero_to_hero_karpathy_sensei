{
 "cells": [
  {
   "cell_type": "code",
   "execution_count": 443,
   "id": "afa99189",
   "metadata": {},
   "outputs": [],
   "source": [
    "import torch\n",
    "import matplotlib.pyplot as plt\n",
    "import torch.nn.functional as F\n",
    "device = torch.device(\"mps\" if torch.backends.mps.is_available() else \"cpu\")"
   ]
  },
  {
   "cell_type": "code",
   "execution_count": 444,
   "id": "eb4cc0c6",
   "metadata": {},
   "outputs": [
    {
     "data": {
      "text/plain": [
       "True"
      ]
     },
     "execution_count": 444,
     "metadata": {},
     "output_type": "execute_result"
    }
   ],
   "source": [
    "# using the Apple metal framework to move tensors to GPU\n",
    "torch.backends.mps.is_available()"
   ]
  },
  {
   "cell_type": "code",
   "execution_count": 445,
   "id": "374f5b52",
   "metadata": {},
   "outputs": [],
   "source": [
    "with open('names.txt','r') as w:\n",
    "    names = w.read()\n",
    "    names = names.splitlines()"
   ]
  },
  {
   "cell_type": "code",
   "execution_count": 446,
   "id": "a91d8392",
   "metadata": {},
   "outputs": [
    {
     "data": {
      "text/plain": [
       "['emma', 'olivia', 'ava', 'isabella', 'sophia']"
      ]
     },
     "execution_count": 446,
     "metadata": {},
     "output_type": "execute_result"
    }
   ],
   "source": [
    "names[:5]"
   ]
  },
  {
   "cell_type": "code",
   "execution_count": 447,
   "id": "cdf09cf3",
   "metadata": {},
   "outputs": [
    {
     "data": {
      "text/plain": [
       "32033"
      ]
     },
     "execution_count": 447,
     "metadata": {},
     "output_type": "execute_result"
    }
   ],
   "source": [
    "len(names)"
   ]
  },
  {
   "cell_type": "code",
   "execution_count": 448,
   "id": "ab142f56",
   "metadata": {},
   "outputs": [
    {
     "name": "stdout",
     "output_type": "stream",
     "text": [
      "{'a': 1, 'b': 2, 'c': 3, 'd': 4, 'e': 5, 'f': 6, 'g': 7, 'h': 8, 'i': 9, 'j': 10, 'k': 11, 'l': 12, 'm': 13, 'n': 14, 'o': 15, 'p': 16, 'q': 17, 'r': 18, 's': 19, 't': 20, 'u': 21, 'v': 22, 'w': 23, 'x': 24, 'y': 25, 'z': 26, '.': 0}\n",
      "{1: 'a', 2: 'b', 3: 'c', 4: 'd', 5: 'e', 6: 'f', 7: 'g', 8: 'h', 9: 'i', 10: 'j', 11: 'k', 12: 'l', 13: 'm', 14: 'n', 15: 'o', 16: 'p', 17: 'q', 18: 'r', 19: 's', 20: 't', 21: 'u', 22: 'v', 23: 'w', 24: 'x', 25: 'y', 26: 'z', 0: '.'}\n"
     ]
    }
   ],
   "source": [
    "chars = sorted(list(set(''.join(names))))\n",
    "stoi = {s:i+1 for i,s in enumerate(chars)}\n",
    "stoi['.'] = 0\n",
    "itos= {s:i for i,s in stoi.items()}\n",
    "print(stoi)\n",
    "print(itos)"
   ]
  },
  {
   "cell_type": "code",
   "execution_count": 449,
   "id": "f1b98092",
   "metadata": {},
   "outputs": [],
   "source": [
    "block_size = 3\n",
    "\n",
    "x, y = [], []\n",
    "\n",
    "for w in names:\n",
    "    \n",
    "    # print(w)\n",
    "\n",
    "    context = [0] * block_size\n",
    "\n",
    "    for ch in w + '.':\n",
    "        ix = stoi[ch]\n",
    "        x.append(context)\n",
    "        y.append(ix)\n",
    "\n",
    "        # print(''.join(itos[i] for i in context),'--->',itos[ix])\n",
    "\n",
    "        context = context[1:] + [ix]\n",
    "\n",
    "x = torch.tensor(x)\n",
    "y = torch.tensor(y)"
   ]
  },
  {
   "cell_type": "code",
   "execution_count": 450,
   "id": "110ce5bc",
   "metadata": {},
   "outputs": [
    {
     "name": "stdout",
     "output_type": "stream",
     "text": [
      "torch.Size([159846, 3]) torch.Size([159846])\n",
      "torch.Size([45434, 3]) torch.Size([45434])\n",
      "torch.Size([22866, 3]) torch.Size([22866])\n"
     ]
    }
   ],
   "source": [
    "def build_dataset(words):\n",
    "    block_size = 3 #context length / how many chars do we need to predict the next word\n",
    "    x, y = [], []\n",
    "\n",
    "    for w in words:\n",
    "\n",
    "        context = [0] * block_size\n",
    "        for ch in w + '.':\n",
    "            ix = stoi[ch]\n",
    "            x.append(context)\n",
    "            y.append(ix)\n",
    "            context = context[1:] + [ix]\n",
    "    \n",
    "    x = torch.tensor(x)\n",
    "    y = torch.tensor(y)\n",
    "    print(x.shape,y.shape)\n",
    "    return x, y\n",
    "\n",
    "import random\n",
    "random.seed(42)\n",
    "random.shuffle(names)\n",
    "\n",
    "n1 = int(0.7*len(names))\n",
    "n2 = int(0.9*len(names))\n",
    "\n",
    "xtr, ytr = build_dataset(names[:n1])\n",
    "xdev, ydev = build_dataset(names[n1:n2])\n",
    "xtest, ytest = build_dataset(names[n2:])"
   ]
  },
  {
   "cell_type": "code",
   "execution_count": 451,
   "id": "9b3bcdfe",
   "metadata": {},
   "outputs": [
    {
     "data": {
      "text/plain": [
       "(32033, 22423, 28829)"
      ]
     },
     "execution_count": 451,
     "metadata": {},
     "output_type": "execute_result"
    }
   ],
   "source": [
    "len(names),n1,n2"
   ]
  },
  {
   "cell_type": "code",
   "execution_count": 452,
   "id": "f18f7295",
   "metadata": {},
   "outputs": [
    {
     "data": {
      "text/plain": [
       "(tensor([[ 0,  0,  0],\n",
       "         [ 0,  0,  5],\n",
       "         [ 0,  5, 13],\n",
       "         [ 5, 13, 13]]),\n",
       " tensor([ 5, 13, 13,  1]))"
      ]
     },
     "execution_count": 452,
     "metadata": {},
     "output_type": "execute_result"
    }
   ],
   "source": [
    "x[:4],y[:4]"
   ]
  },
  {
   "cell_type": "markdown",
   "id": "7ba5cbfa",
   "metadata": {},
   "source": [
    "Now we embedd our 27 characters into a 2-D space."
   ]
  },
  {
   "cell_type": "code",
   "execution_count": 453,
   "id": "055af374",
   "metadata": {},
   "outputs": [],
   "source": [
    "C = torch.randn((27,2))"
   ]
  },
  {
   "cell_type": "markdown",
   "id": "c8040148",
   "metadata": {},
   "source": [
    "### Below we do some tensor gymnastics to see how effective pytorch indexing is and how we can simply index into C from x using C[x]."
   ]
  },
  {
   "cell_type": "code",
   "execution_count": 454,
   "id": "56ace601",
   "metadata": {},
   "outputs": [
    {
     "data": {
      "text/plain": [
       "(tensor([[0, 0, 0],\n",
       "         [0, 0, 5]]),\n",
       " torch.Size([2, 3]))"
      ]
     },
     "execution_count": 454,
     "metadata": {},
     "output_type": "execute_result"
    }
   ],
   "source": [
    "x[:2], x[:2].shape"
   ]
  },
  {
   "cell_type": "code",
   "execution_count": 455,
   "id": "2305b637",
   "metadata": {},
   "outputs": [
    {
     "data": {
      "text/plain": [
       "tensor(1)"
      ]
     },
     "execution_count": 455,
     "metadata": {},
     "output_type": "execute_result"
    }
   ],
   "source": [
    "x[13,2]"
   ]
  },
  {
   "cell_type": "code",
   "execution_count": 456,
   "id": "45915a1d",
   "metadata": {},
   "outputs": [
    {
     "data": {
      "text/plain": [
       "tensor([0.5349, 1.3570])"
      ]
     },
     "execution_count": 456,
     "metadata": {},
     "output_type": "execute_result"
    }
   ],
   "source": [
    "C[x[13]][2]"
   ]
  },
  {
   "cell_type": "code",
   "execution_count": 457,
   "id": "b90d91e8",
   "metadata": {},
   "outputs": [
    {
     "data": {
      "text/plain": [
       "tensor([0.5349, 1.3570])"
      ]
     },
     "execution_count": 457,
     "metadata": {},
     "output_type": "execute_result"
    }
   ],
   "source": [
    "C[1]"
   ]
  },
  {
   "cell_type": "code",
   "execution_count": 458,
   "id": "937b44ed",
   "metadata": {},
   "outputs": [
    {
     "data": {
      "text/plain": [
       "tensor([[ 0.5349,  1.3570],\n",
       "        [-0.2758,  0.4830],\n",
       "        [ 0.7167, -1.0789]])"
      ]
     },
     "execution_count": 458,
     "metadata": {},
     "output_type": "execute_result"
    }
   ],
   "source": [
    "C[[1,2,3]]"
   ]
  },
  {
   "cell_type": "code",
   "execution_count": 459,
   "id": "1de17fcf",
   "metadata": {},
   "outputs": [
    {
     "data": {
      "text/plain": [
       "(tensor([[[ 0.8900, -1.0864],\n",
       "          [ 0.8900, -1.0864],\n",
       "          [ 0.8900, -1.0864]],\n",
       " \n",
       "         [[ 0.8900, -1.0864],\n",
       "          [ 0.8900, -1.0864],\n",
       "          [-0.0655,  0.3430]]]),\n",
       " torch.Size([2, 3, 2]))"
      ]
     },
     "execution_count": 459,
     "metadata": {},
     "output_type": "execute_result"
    }
   ],
   "source": [
    "C[x[:2]], C[x[:2]].shape"
   ]
  },
  {
   "cell_type": "markdown",
   "id": "d19458de",
   "metadata": {},
   "source": [
    "## Now we implement the embedding lookup table"
   ]
  },
  {
   "cell_type": "code",
   "execution_count": 460,
   "id": "9dc44a7d",
   "metadata": {},
   "outputs": [
    {
     "data": {
      "text/plain": [
       "torch.Size([228146, 3, 2])"
      ]
     },
     "execution_count": 460,
     "metadata": {},
     "output_type": "execute_result"
    }
   ],
   "source": [
    "emb = C[x]\n",
    "emb.shape"
   ]
  },
  {
   "cell_type": "code",
   "execution_count": 461,
   "id": "bacbcd09",
   "metadata": {},
   "outputs": [],
   "source": [
    "W1 = torch.randn((6,100))\n",
    "b1 = torch.randn(100)"
   ]
  },
  {
   "cell_type": "code",
   "execution_count": 462,
   "id": "2a7bffe3",
   "metadata": {},
   "outputs": [
    {
     "data": {
      "text/plain": [
       "(torch.Size([6, 100]), torch.Size([100]))"
      ]
     },
     "execution_count": 462,
     "metadata": {},
     "output_type": "execute_result"
    }
   ],
   "source": [
    "W1.shape, b1.shape"
   ]
  },
  {
   "cell_type": "code",
   "execution_count": 463,
   "id": "b7a5dfe3",
   "metadata": {},
   "outputs": [
    {
     "data": {
      "text/plain": [
       "torch.Size([228146, 3, 2])"
      ]
     },
     "execution_count": 463,
     "metadata": {},
     "output_type": "execute_result"
    }
   ],
   "source": [
    "emb.size()"
   ]
  },
  {
   "cell_type": "markdown",
   "id": "09b9d51c",
   "metadata": {},
   "source": [
    "## To move our inputs to the next layer we would want to do \n",
    "1. emb @ W1 + b\n",
    "2. But, we can't do that as emb and W1 are not shape compatible\n",
    "3. So we do something familiar, i.e reshape/view of emb"
   ]
  },
  {
   "cell_type": "code",
   "execution_count": 464,
   "id": "139b5a8f",
   "metadata": {},
   "outputs": [
    {
     "data": {
      "text/plain": [
       "torch.Size([228146, 100])"
      ]
     },
     "execution_count": 464,
     "metadata": {},
     "output_type": "execute_result"
    }
   ],
   "source": [
    "# h = emb.view(32,6) @ W1 + b1 we change this in favour of below, as the magic -1 pops up.\n",
    "h = torch.tanh(emb.view(-1,6) @ W1 + b1) #also add a tanh to ensure ouputs btw -1 and 1, our non-linearity\n",
    "h.shape"
   ]
  },
  {
   "cell_type": "code",
   "execution_count": 465,
   "id": "32e0fa20",
   "metadata": {},
   "outputs": [],
   "source": [
    "W2 = torch.randn((100,27))\n",
    "b2 = torch.randn(27)"
   ]
  },
  {
   "cell_type": "code",
   "execution_count": 466,
   "id": "5bf0b1a3",
   "metadata": {},
   "outputs": [],
   "source": [
    "logits = h @ W2 + b2"
   ]
  },
  {
   "cell_type": "code",
   "execution_count": 467,
   "id": "07cc9050",
   "metadata": {},
   "outputs": [
    {
     "data": {
      "text/plain": [
       "torch.Size([228146, 27])"
      ]
     },
     "execution_count": 467,
     "metadata": {},
     "output_type": "execute_result"
    }
   ],
   "source": [
    "logits.shape"
   ]
  },
  {
   "cell_type": "code",
   "execution_count": 468,
   "id": "49018827",
   "metadata": {},
   "outputs": [],
   "source": [
    "counts = logits.exp()"
   ]
  },
  {
   "cell_type": "code",
   "execution_count": 469,
   "id": "f7dc5a3a",
   "metadata": {},
   "outputs": [],
   "source": [
    "probs = counts / counts.sum (1, keepdim = True)"
   ]
  },
  {
   "cell_type": "code",
   "execution_count": 470,
   "id": "c088781c",
   "metadata": {},
   "outputs": [
    {
     "data": {
      "text/plain": [
       "torch.Size([228146, 27])"
      ]
     },
     "execution_count": 470,
     "metadata": {},
     "output_type": "execute_result"
    }
   ],
   "source": [
    "probs.shape"
   ]
  },
  {
   "cell_type": "code",
   "execution_count": 471,
   "id": "069dee61",
   "metadata": {},
   "outputs": [
    {
     "ename": "IndexError",
     "evalue": "shape mismatch: indexing tensors could not be broadcast together with shapes [32], [228146]",
     "output_type": "error",
     "traceback": [
      "\u001b[0;31m---------------------------------------------------------------------------\u001b[0m",
      "\u001b[0;31mIndexError\u001b[0m                                Traceback (most recent call last)",
      "Cell \u001b[0;32mIn[471], line 2\u001b[0m\n\u001b[1;32m      1\u001b[0m \u001b[38;5;66;03m#  again why log, if the probability is very high, we get the output close to zero, else if close to zero, we get hugely -ve.\u001b[39;00m\n\u001b[0;32m----> 2\u001b[0m loss \u001b[38;5;241m=\u001b[39m \u001b[38;5;241m-\u001b[39mprobs[torch\u001b[38;5;241m.\u001b[39marange(\u001b[38;5;241m32\u001b[39m),y]\u001b[38;5;241m.\u001b[39mlog()\u001b[38;5;241m.\u001b[39mmean()\n\u001b[1;32m      3\u001b[0m loss\n",
      "\u001b[0;31mIndexError\u001b[0m: shape mismatch: indexing tensors could not be broadcast together with shapes [32], [228146]"
     ]
    }
   ],
   "source": [
    "#  again why log, if the probability is very high, we get the output close to zero, else if close to zero, we get hugely -ve.\n",
    "loss = -probs[torch.arange(32),y].log().mean()\n",
    "loss"
   ]
  },
  {
   "cell_type": "markdown",
   "id": "fee97728",
   "metadata": {},
   "source": [
    "## Lets make it respectable :)"
   ]
  },
  {
   "cell_type": "code",
   "execution_count": 472,
   "id": "f6e718b1",
   "metadata": {},
   "outputs": [
    {
     "data": {
      "text/plain": [
       "(torch.Size([228146, 3]), torch.Size([228146]))"
      ]
     },
     "execution_count": 472,
     "metadata": {},
     "output_type": "execute_result"
    }
   ],
   "source": [
    "x.shape, y.shape #dataset"
   ]
  },
  {
   "cell_type": "code",
   "execution_count": null,
   "id": "07b8d36a",
   "metadata": {},
   "outputs": [],
   "source": [
    "# intialising all our embeddings, layers and biases\n",
    "g = torch.Generator().manual_seed(2147483647) \n",
    "C = torch.randn((27,10),generator=g)\n",
    "W1 = torch.randn((30,200),generator=g)\n",
    "b1 = torch.randn(200,generator=g)\n",
    "W2 = torch.randn((200,27),generator=g)\n",
    "b2 = torch.randn(27,generator=g)\n",
    "parameters = [C,W1,b1,W2,b2]"
   ]
  },
  {
   "cell_type": "code",
   "execution_count": null,
   "id": "12a1e781",
   "metadata": {},
   "outputs": [
    {
     "data": {
      "text/plain": [
       "(tensor([[ 0,  0,  0],\n",
       "         [ 0,  0,  5],\n",
       "         [ 0,  5, 13],\n",
       "         ...,\n",
       "         [26, 26, 25],\n",
       "         [26, 25, 26],\n",
       "         [25, 26, 24]]),\n",
       " 3481)"
      ]
     },
     "execution_count": 807,
     "metadata": {},
     "output_type": "execute_result"
    }
   ],
   "source": [
    "z = []\n",
    "for p in parameters:\n",
    "    z.append(p.numel()) #numel returns the number of elements in the tensor\n",
    "x,sum(z)"
   ]
  },
  {
   "cell_type": "code",
   "execution_count": 474,
   "id": "2a8c2737",
   "metadata": {},
   "outputs": [
    {
     "data": {
      "text/plain": [
       "11897"
      ]
     },
     "execution_count": 474,
     "metadata": {},
     "output_type": "execute_result"
    }
   ],
   "source": [
    "sum(p.numel() for p in parameters)"
   ]
  },
  {
   "cell_type": "code",
   "execution_count": 483,
   "id": "f3193024",
   "metadata": {},
   "outputs": [
    {
     "ename": "RuntimeError",
     "evalue": "mat1 and mat2 shapes cannot be multiplied (1140730x6 and 30x200)",
     "output_type": "error",
     "traceback": [
      "\u001b[0;31m---------------------------------------------------------------------------\u001b[0m",
      "\u001b[0;31mRuntimeError\u001b[0m                              Traceback (most recent call last)",
      "Cell \u001b[0;32mIn[483], line 3\u001b[0m\n\u001b[1;32m      1\u001b[0m \u001b[38;5;66;03m# forward pass\u001b[39;00m\n\u001b[1;32m      2\u001b[0m emb \u001b[38;5;241m=\u001b[39m C[x]\n\u001b[0;32m----> 3\u001b[0m h \u001b[38;5;241m=\u001b[39m torch\u001b[38;5;241m.\u001b[39mtanh(emb\u001b[38;5;241m.\u001b[39mview(\u001b[38;5;241m-\u001b[39m\u001b[38;5;241m1\u001b[39m,\u001b[38;5;241m6\u001b[39m) \u001b[38;5;241m@\u001b[39m W1 \u001b[38;5;241m+\u001b[39m b1) \u001b[38;5;66;03m# (32,100)\u001b[39;00m\n\u001b[1;32m      4\u001b[0m logits \u001b[38;5;241m=\u001b[39m h \u001b[38;5;241m@\u001b[39m W2 \u001b[38;5;241m+\u001b[39m b2 \u001b[38;5;66;03m# (32,27)\u001b[39;00m\n\u001b[1;32m      6\u001b[0m \u001b[38;5;66;03m## The below is a manual implemenation of negative log-likelihood loss or cross entropy loss, highly inefficient\u001b[39;00m\n\u001b[1;32m      7\u001b[0m \u001b[38;5;66;03m# counts = logits.exp()\u001b[39;00m\n\u001b[1;32m      8\u001b[0m \u001b[38;5;66;03m# probs = counts / counts.sum(1, keepdim=True)\u001b[39;00m\n\u001b[1;32m      9\u001b[0m \u001b[38;5;66;03m# loss = -probs[torch.arange(32),y].log().mean()\u001b[39;00m\n",
      "\u001b[0;31mRuntimeError\u001b[0m: mat1 and mat2 shapes cannot be multiplied (1140730x6 and 30x200)"
     ]
    }
   ],
   "source": [
    "# forward pass\n",
    "emb = C[x]\n",
    "h = torch.tanh(emb.view(-1,6) @ W1 + b1) # (32,100)\n",
    "logits = h @ W2 + b2 # (32,27)\n",
    "\n",
    "## The below is a manual implemenation of negative log-likelihood loss or cross entropy loss, highly inefficient\n",
    "# counts = logits.exp()\n",
    "# probs = counts / counts.sum(1, keepdim=True)\n",
    "# loss = -probs[torch.arange(32),y].log().mean()\n",
    "\n",
    "loss = F.cross_entropy(logits,y) # we can always replace the manual implementation of cross entropy with the direct funtion call, as its much faster\n",
    "loss"
   ]
  },
  {
   "cell_type": "code",
   "execution_count": 484,
   "id": "34f3b3d9",
   "metadata": {},
   "outputs": [],
   "source": [
    "# enable gradient tracking\n",
    "for p in parameters:\n",
    "    p.requires_grad = True"
   ]
  },
  {
   "cell_type": "code",
   "execution_count": 485,
   "id": "23c5fe84",
   "metadata": {},
   "outputs": [
    {
     "data": {
      "text/plain": [
       "tensor([0.0010, 0.0010, 0.0010, 0.0010, 0.0010, 0.0010, 0.0010, 0.0010, 0.0011,\n",
       "        0.0011, 0.0011, 0.0011, 0.0011, 0.0011, 0.0011, 0.0011, 0.0011, 0.0011,\n",
       "        0.0011, 0.0011, 0.0011, 0.0012, 0.0012, 0.0012, 0.0012, 0.0012, 0.0012,\n",
       "        0.0012, 0.0012, 0.0012, 0.0012, 0.0012, 0.0012, 0.0013, 0.0013, 0.0013,\n",
       "        0.0013, 0.0013, 0.0013, 0.0013, 0.0013, 0.0013, 0.0013, 0.0013, 0.0014,\n",
       "        0.0014, 0.0014, 0.0014, 0.0014, 0.0014, 0.0014, 0.0014, 0.0014, 0.0014,\n",
       "        0.0015, 0.0015, 0.0015, 0.0015, 0.0015, 0.0015, 0.0015, 0.0015, 0.0015,\n",
       "        0.0015, 0.0016, 0.0016, 0.0016, 0.0016, 0.0016, 0.0016, 0.0016, 0.0016,\n",
       "        0.0016, 0.0017, 0.0017, 0.0017, 0.0017, 0.0017, 0.0017, 0.0017, 0.0017,\n",
       "        0.0018, 0.0018, 0.0018, 0.0018, 0.0018, 0.0018, 0.0018, 0.0018, 0.0019,\n",
       "        0.0019, 0.0019, 0.0019, 0.0019, 0.0019, 0.0019, 0.0019, 0.0020, 0.0020,\n",
       "        0.0020, 0.0020, 0.0020, 0.0020, 0.0020, 0.0021, 0.0021, 0.0021, 0.0021,\n",
       "        0.0021, 0.0021, 0.0021, 0.0022, 0.0022, 0.0022, 0.0022, 0.0022, 0.0022,\n",
       "        0.0022, 0.0023, 0.0023, 0.0023, 0.0023, 0.0023, 0.0023, 0.0024, 0.0024,\n",
       "        0.0024, 0.0024, 0.0024, 0.0024, 0.0025, 0.0025, 0.0025, 0.0025, 0.0025,\n",
       "        0.0025, 0.0026, 0.0026, 0.0026, 0.0026, 0.0026, 0.0027, 0.0027, 0.0027,\n",
       "        0.0027, 0.0027, 0.0027, 0.0028, 0.0028, 0.0028, 0.0028, 0.0028, 0.0029,\n",
       "        0.0029, 0.0029, 0.0029, 0.0029, 0.0030, 0.0030, 0.0030, 0.0030, 0.0030,\n",
       "        0.0031, 0.0031, 0.0031, 0.0031, 0.0032, 0.0032, 0.0032, 0.0032, 0.0032,\n",
       "        0.0033, 0.0033, 0.0033, 0.0033, 0.0034, 0.0034, 0.0034, 0.0034, 0.0034,\n",
       "        0.0035, 0.0035, 0.0035, 0.0035, 0.0036, 0.0036, 0.0036, 0.0036, 0.0037,\n",
       "        0.0037, 0.0037, 0.0037, 0.0038, 0.0038, 0.0038, 0.0039, 0.0039, 0.0039,\n",
       "        0.0039, 0.0040, 0.0040, 0.0040, 0.0040, 0.0041, 0.0041, 0.0041, 0.0042,\n",
       "        0.0042, 0.0042, 0.0042, 0.0043, 0.0043, 0.0043, 0.0044, 0.0044, 0.0044,\n",
       "        0.0045, 0.0045, 0.0045, 0.0045, 0.0046, 0.0046, 0.0046, 0.0047, 0.0047,\n",
       "        0.0047, 0.0048, 0.0048, 0.0048, 0.0049, 0.0049, 0.0049, 0.0050, 0.0050,\n",
       "        0.0050, 0.0051, 0.0051, 0.0051, 0.0052, 0.0052, 0.0053, 0.0053, 0.0053,\n",
       "        0.0054, 0.0054, 0.0054, 0.0055, 0.0055, 0.0056, 0.0056, 0.0056, 0.0057,\n",
       "        0.0057, 0.0058, 0.0058, 0.0058, 0.0059, 0.0059, 0.0060, 0.0060, 0.0060,\n",
       "        0.0061, 0.0061, 0.0062, 0.0062, 0.0062, 0.0063, 0.0063, 0.0064, 0.0064,\n",
       "        0.0065, 0.0065, 0.0066, 0.0066, 0.0067, 0.0067, 0.0067, 0.0068, 0.0068,\n",
       "        0.0069, 0.0069, 0.0070, 0.0070, 0.0071, 0.0071, 0.0072, 0.0072, 0.0073,\n",
       "        0.0073, 0.0074, 0.0074, 0.0075, 0.0075, 0.0076, 0.0076, 0.0077, 0.0077,\n",
       "        0.0078, 0.0079, 0.0079, 0.0080, 0.0080, 0.0081, 0.0081, 0.0082, 0.0082,\n",
       "        0.0083, 0.0084, 0.0084, 0.0085, 0.0085, 0.0086, 0.0086, 0.0087, 0.0088,\n",
       "        0.0088, 0.0089, 0.0090, 0.0090, 0.0091, 0.0091, 0.0092, 0.0093, 0.0093,\n",
       "        0.0094, 0.0095, 0.0095, 0.0096, 0.0097, 0.0097, 0.0098, 0.0099, 0.0099,\n",
       "        0.0100, 0.0101, 0.0101, 0.0102, 0.0103, 0.0104, 0.0104, 0.0105, 0.0106,\n",
       "        0.0106, 0.0107, 0.0108, 0.0109, 0.0109, 0.0110, 0.0111, 0.0112, 0.0112,\n",
       "        0.0113, 0.0114, 0.0115, 0.0116, 0.0116, 0.0117, 0.0118, 0.0119, 0.0120,\n",
       "        0.0121, 0.0121, 0.0122, 0.0123, 0.0124, 0.0125, 0.0126, 0.0127, 0.0127,\n",
       "        0.0128, 0.0129, 0.0130, 0.0131, 0.0132, 0.0133, 0.0134, 0.0135, 0.0136,\n",
       "        0.0137, 0.0137, 0.0138, 0.0139, 0.0140, 0.0141, 0.0142, 0.0143, 0.0144,\n",
       "        0.0145, 0.0146, 0.0147, 0.0148, 0.0149, 0.0150, 0.0151, 0.0152, 0.0154,\n",
       "        0.0155, 0.0156, 0.0157, 0.0158, 0.0159, 0.0160, 0.0161, 0.0162, 0.0163,\n",
       "        0.0165, 0.0166, 0.0167, 0.0168, 0.0169, 0.0170, 0.0171, 0.0173, 0.0174,\n",
       "        0.0175, 0.0176, 0.0178, 0.0179, 0.0180, 0.0181, 0.0182, 0.0184, 0.0185,\n",
       "        0.0186, 0.0188, 0.0189, 0.0190, 0.0192, 0.0193, 0.0194, 0.0196, 0.0197,\n",
       "        0.0198, 0.0200, 0.0201, 0.0202, 0.0204, 0.0205, 0.0207, 0.0208, 0.0210,\n",
       "        0.0211, 0.0212, 0.0214, 0.0215, 0.0217, 0.0218, 0.0220, 0.0221, 0.0223,\n",
       "        0.0225, 0.0226, 0.0228, 0.0229, 0.0231, 0.0232, 0.0234, 0.0236, 0.0237,\n",
       "        0.0239, 0.0241, 0.0242, 0.0244, 0.0246, 0.0247, 0.0249, 0.0251, 0.0253,\n",
       "        0.0254, 0.0256, 0.0258, 0.0260, 0.0261, 0.0263, 0.0265, 0.0267, 0.0269,\n",
       "        0.0271, 0.0273, 0.0274, 0.0276, 0.0278, 0.0280, 0.0282, 0.0284, 0.0286,\n",
       "        0.0288, 0.0290, 0.0292, 0.0294, 0.0296, 0.0298, 0.0300, 0.0302, 0.0304,\n",
       "        0.0307, 0.0309, 0.0311, 0.0313, 0.0315, 0.0317, 0.0320, 0.0322, 0.0324,\n",
       "        0.0326, 0.0328, 0.0331, 0.0333, 0.0335, 0.0338, 0.0340, 0.0342, 0.0345,\n",
       "        0.0347, 0.0350, 0.0352, 0.0354, 0.0357, 0.0359, 0.0362, 0.0364, 0.0367,\n",
       "        0.0369, 0.0372, 0.0375, 0.0377, 0.0380, 0.0382, 0.0385, 0.0388, 0.0390,\n",
       "        0.0393, 0.0396, 0.0399, 0.0401, 0.0404, 0.0407, 0.0410, 0.0413, 0.0416,\n",
       "        0.0418, 0.0421, 0.0424, 0.0427, 0.0430, 0.0433, 0.0436, 0.0439, 0.0442,\n",
       "        0.0445, 0.0448, 0.0451, 0.0455, 0.0458, 0.0461, 0.0464, 0.0467, 0.0471,\n",
       "        0.0474, 0.0477, 0.0480, 0.0484, 0.0487, 0.0491, 0.0494, 0.0497, 0.0501,\n",
       "        0.0504, 0.0508, 0.0511, 0.0515, 0.0518, 0.0522, 0.0526, 0.0529, 0.0533,\n",
       "        0.0537, 0.0540, 0.0544, 0.0548, 0.0552, 0.0556, 0.0559, 0.0563, 0.0567,\n",
       "        0.0571, 0.0575, 0.0579, 0.0583, 0.0587, 0.0591, 0.0595, 0.0599, 0.0604,\n",
       "        0.0608, 0.0612, 0.0616, 0.0621, 0.0625, 0.0629, 0.0634, 0.0638, 0.0642,\n",
       "        0.0647, 0.0651, 0.0656, 0.0660, 0.0665, 0.0670, 0.0674, 0.0679, 0.0684,\n",
       "        0.0688, 0.0693, 0.0698, 0.0703, 0.0708, 0.0713, 0.0718, 0.0723, 0.0728,\n",
       "        0.0733, 0.0738, 0.0743, 0.0748, 0.0753, 0.0758, 0.0764, 0.0769, 0.0774,\n",
       "        0.0780, 0.0785, 0.0790, 0.0796, 0.0802, 0.0807, 0.0813, 0.0818, 0.0824,\n",
       "        0.0830, 0.0835, 0.0841, 0.0847, 0.0853, 0.0859, 0.0865, 0.0871, 0.0877,\n",
       "        0.0883, 0.0889, 0.0895, 0.0901, 0.0908, 0.0914, 0.0920, 0.0927, 0.0933,\n",
       "        0.0940, 0.0946, 0.0953, 0.0959, 0.0966, 0.0973, 0.0979, 0.0986, 0.0993,\n",
       "        0.1000, 0.1007, 0.1014, 0.1021, 0.1028, 0.1035, 0.1042, 0.1050, 0.1057,\n",
       "        0.1064, 0.1072, 0.1079, 0.1087, 0.1094, 0.1102, 0.1109, 0.1117, 0.1125,\n",
       "        0.1133, 0.1140, 0.1148, 0.1156, 0.1164, 0.1172, 0.1181, 0.1189, 0.1197,\n",
       "        0.1205, 0.1214, 0.1222, 0.1231, 0.1239, 0.1248, 0.1256, 0.1265, 0.1274,\n",
       "        0.1283, 0.1292, 0.1301, 0.1310, 0.1319, 0.1328, 0.1337, 0.1346, 0.1356,\n",
       "        0.1365, 0.1374, 0.1384, 0.1394, 0.1403, 0.1413, 0.1423, 0.1433, 0.1443,\n",
       "        0.1453, 0.1463, 0.1473, 0.1483, 0.1493, 0.1504, 0.1514, 0.1525, 0.1535,\n",
       "        0.1546, 0.1557, 0.1567, 0.1578, 0.1589, 0.1600, 0.1611, 0.1623, 0.1634,\n",
       "        0.1645, 0.1657, 0.1668, 0.1680, 0.1691, 0.1703, 0.1715, 0.1727, 0.1739,\n",
       "        0.1751, 0.1763, 0.1775, 0.1788, 0.1800, 0.1812, 0.1825, 0.1838, 0.1850,\n",
       "        0.1863, 0.1876, 0.1889, 0.1902, 0.1916, 0.1929, 0.1942, 0.1956, 0.1969,\n",
       "        0.1983, 0.1997, 0.2010, 0.2024, 0.2038, 0.2053, 0.2067, 0.2081, 0.2096,\n",
       "        0.2110, 0.2125, 0.2140, 0.2154, 0.2169, 0.2184, 0.2200, 0.2215, 0.2230,\n",
       "        0.2246, 0.2261, 0.2277, 0.2293, 0.2309, 0.2325, 0.2341, 0.2357, 0.2373,\n",
       "        0.2390, 0.2406, 0.2423, 0.2440, 0.2457, 0.2474, 0.2491, 0.2508, 0.2526,\n",
       "        0.2543, 0.2561, 0.2579, 0.2597, 0.2615, 0.2633, 0.2651, 0.2669, 0.2688,\n",
       "        0.2707, 0.2725, 0.2744, 0.2763, 0.2783, 0.2802, 0.2821, 0.2841, 0.2861,\n",
       "        0.2880, 0.2900, 0.2921, 0.2941, 0.2961, 0.2982, 0.3002, 0.3023, 0.3044,\n",
       "        0.3065, 0.3087, 0.3108, 0.3130, 0.3151, 0.3173, 0.3195, 0.3217, 0.3240,\n",
       "        0.3262, 0.3285, 0.3308, 0.3331, 0.3354, 0.3377, 0.3400, 0.3424, 0.3448,\n",
       "        0.3472, 0.3496, 0.3520, 0.3544, 0.3569, 0.3594, 0.3619, 0.3644, 0.3669,\n",
       "        0.3695, 0.3720, 0.3746, 0.3772, 0.3798, 0.3825, 0.3851, 0.3878, 0.3905,\n",
       "        0.3932, 0.3959, 0.3987, 0.4014, 0.4042, 0.4070, 0.4098, 0.4127, 0.4155,\n",
       "        0.4184, 0.4213, 0.4243, 0.4272, 0.4302, 0.4331, 0.4362, 0.4392, 0.4422,\n",
       "        0.4453, 0.4484, 0.4515, 0.4546, 0.4578, 0.4610, 0.4642, 0.4674, 0.4706,\n",
       "        0.4739, 0.4772, 0.4805, 0.4838, 0.4872, 0.4906, 0.4940, 0.4974, 0.5008,\n",
       "        0.5043, 0.5078, 0.5113, 0.5149, 0.5185, 0.5221, 0.5257, 0.5293, 0.5330,\n",
       "        0.5367, 0.5404, 0.5442, 0.5479, 0.5517, 0.5556, 0.5594, 0.5633, 0.5672,\n",
       "        0.5712, 0.5751, 0.5791, 0.5831, 0.5872, 0.5913, 0.5954, 0.5995, 0.6036,\n",
       "        0.6078, 0.6120, 0.6163, 0.6206, 0.6249, 0.6292, 0.6336, 0.6380, 0.6424,\n",
       "        0.6469, 0.6513, 0.6559, 0.6604, 0.6650, 0.6696, 0.6743, 0.6789, 0.6837,\n",
       "        0.6884, 0.6932, 0.6980, 0.7028, 0.7077, 0.7126, 0.7176, 0.7225, 0.7275,\n",
       "        0.7326, 0.7377, 0.7428, 0.7480, 0.7531, 0.7584, 0.7636, 0.7689, 0.7743,\n",
       "        0.7796, 0.7850, 0.7905, 0.7960, 0.8015, 0.8071, 0.8127, 0.8183, 0.8240,\n",
       "        0.8297, 0.8355, 0.8412, 0.8471, 0.8530, 0.8589, 0.8648, 0.8708, 0.8769,\n",
       "        0.8830, 0.8891, 0.8953, 0.9015, 0.9077, 0.9140, 0.9204, 0.9268, 0.9332,\n",
       "        0.9397, 0.9462, 0.9528, 0.9594, 0.9660, 0.9727, 0.9795, 0.9863, 0.9931,\n",
       "        1.0000])"
      ]
     },
     "execution_count": 485,
     "metadata": {},
     "output_type": "execute_result"
    }
   ],
   "source": [
    "lre = torch.linspace(-3,0,1000)\n",
    "lrs = 10**lre\n",
    "lrs"
   ]
  },
  {
   "cell_type": "code",
   "execution_count": 477,
   "id": "ce8072c1",
   "metadata": {},
   "outputs": [],
   "source": [
    "batch_size = 32\n",
    "lri = []\n",
    "lossi = []"
   ]
  },
  {
   "cell_type": "code",
   "execution_count": 486,
   "id": "8e045989",
   "metadata": {},
   "outputs": [
    {
     "name": "stdout",
     "output_type": "stream",
     "text": [
      "3.295837163925171\n"
     ]
    }
   ],
   "source": [
    "for i in range(1):\n",
    "\n",
    "    # minibatch initialisation\n",
    "    ix = torch.randint(0,xtr.shape[0],(batch_size,))\n",
    "\n",
    "    # forward pass\n",
    "    emb = C[xtr[ix]]\n",
    "    h = torch.tanh(emb.view(-1,30) @ W1 + b1)\n",
    "    logits = h @ W2 + b2 \n",
    "    loss = F.cross_entropy(logits,ytr[ix]) \n",
    "    # print(loss.item())\n",
    "\n",
    "    # backward pass\n",
    "    for p in parameters:\n",
    "        p.grad = None\n",
    "\n",
    "    loss.backward()\n",
    "\n",
    "\n",
    "    # Update\n",
    "    # lr = lrs[i]\n",
    "    lr = 0.1 if i < 100000 else 0.01\n",
    "    for p in parameters:\n",
    "        p.data += -lr * p.grad\n",
    "    \n",
    "    # # trac stats\n",
    "    # lri.append(lre[i])\n",
    "    # lossi.append(loss.item())\n",
    "print(loss.item())"
   ]
  },
  {
   "cell_type": "code",
   "execution_count": 492,
   "id": "19ee4702",
   "metadata": {},
   "outputs": [
    {
     "data": {
      "text/plain": [
       "{'Embedding_lookup': torch.Size([27, 10]),\n",
       " 'W1': torch.Size([30, 200]),\n",
       " 'b1': torch.Size([200]),\n",
       " 'W2': torch.Size([200, 27]),\n",
       " 'b2': torch.Size([27]),\n",
       " 'Total_params': 11897,\n",
       " 'lr': 0.1,\n",
       " 'context_lenght': 3,\n",
       " 'batch_size': 32}"
      ]
     },
     "execution_count": 492,
     "metadata": {},
     "output_type": "execute_result"
    }
   ],
   "source": [
    "param_names = ['Embedding_lookup','W1','b1','W2','b2']\n",
    "hyperparams: dict[str, float]\n",
    "hyperparams = {name:p.shape for name,p in zip(param_names,parameters)}\n",
    "hyperparams['Total_params'] = sum(p.numel() for p in parameters)\n",
    "hyperparams['lr'] = lr\n",
    "hyperparams['context_lenght'] = len(context)\n",
    "hyperparams['batch_size'] = batch_size\n",
    "hyperparams"
   ]
  },
  {
   "cell_type": "code",
   "execution_count": 493,
   "id": "b219940c",
   "metadata": {},
   "outputs": [
    {
     "data": {
      "text/plain": [
       "tensor(3.2958)"
      ]
     },
     "execution_count": 493,
     "metadata": {},
     "output_type": "execute_result"
    }
   ],
   "source": [
    "# training loss\n",
    "emb = C[xtr]\n",
    "h = torch.tanh(emb.view(-1,30) @ W1 + b1)\n",
    "logits = h @ W2 + b2 \n",
    "loss = F.cross_entropy(logits,ytr)\n",
    "loss"
   ]
  },
  {
   "cell_type": "code",
   "execution_count": 494,
   "id": "c757be64",
   "metadata": {},
   "outputs": [
    {
     "data": {
      "text/plain": [
       "tensor(3.2958)"
      ]
     },
     "execution_count": 494,
     "metadata": {},
     "output_type": "execute_result"
    }
   ],
   "source": [
    "# dev loss\n",
    "emb = C[xdev]\n",
    "h = torch.tanh(emb.view(-1,30) @ W1 + b1)\n",
    "logits = h @ W2 + b2 \n",
    "loss = F.cross_entropy(logits,ydev)\n",
    "loss"
   ]
  },
  {
   "cell_type": "code",
   "execution_count": null,
   "id": "6744a244",
   "metadata": {},
   "outputs": [
    {
     "data": {
      "text/plain": [
       "[17.070384979248047,\n",
       " 22.610342025756836,\n",
       " 20.64112663269043,\n",
       " 17.729372024536133,\n",
       " 19.34000587463379,\n",
       " 19.333986282348633,\n",
       " 17.4310302734375,\n",
       " 20.040176391601562,\n",
       " 19.171550750732422,\n",
       " 19.091968536376953,\n",
       " 18.063207626342773,\n",
       " 20.743581771850586,\n",
       " 17.64053726196289,\n",
       " 21.521209716796875,\n",
       " 18.28887939453125,\n",
       " 22.444664001464844,\n",
       " 18.03293228149414,\n",
       " 20.586177825927734,\n",
       " 16.8083438873291,\n",
       " 20.45482635498047,\n",
       " 17.229612350463867,\n",
       " 20.186595916748047,\n",
       " 20.32685661315918,\n",
       " 19.778226852416992,\n",
       " 20.404518127441406,\n",
       " 18.96505355834961,\n",
       " 18.19423484802246,\n",
       " 19.303178787231445,\n",
       " 21.37774658203125,\n",
       " 17.87245750427246,\n",
       " 22.7100887298584,\n",
       " 16.373493194580078,\n",
       " 18.33818817138672,\n",
       " 18.584835052490234,\n",
       " 15.352697372436523,\n",
       " 20.25798797607422,\n",
       " 17.343629837036133,\n",
       " 16.889328002929688,\n",
       " 17.439983367919922,\n",
       " 17.97250747680664,\n",
       " 18.906658172607422,\n",
       " 19.585166931152344,\n",
       " 15.574941635131836,\n",
       " 21.585689544677734,\n",
       " 16.618284225463867,\n",
       " 20.409168243408203,\n",
       " 18.217153549194336,\n",
       " 17.785924911499023,\n",
       " 19.013870239257812,\n",
       " 19.143138885498047,\n",
       " 16.304096221923828,\n",
       " 16.06948471069336,\n",
       " 17.187114715576172,\n",
       " 15.797222137451172,\n",
       " 15.604111671447754,\n",
       " 19.201997756958008,\n",
       " 16.761688232421875,\n",
       " 17.870603561401367,\n",
       " 15.889924049377441,\n",
       " 18.175735473632812,\n",
       " 17.453479766845703,\n",
       " 17.872262954711914,\n",
       " 17.535552978515625,\n",
       " 16.198078155517578,\n",
       " 20.251073837280273,\n",
       " 19.418106079101562,\n",
       " 17.81238555908203,\n",
       " 18.714996337890625,\n",
       " 20.38823890686035,\n",
       " 18.61051368713379,\n",
       " 12.607200622558594,\n",
       " 18.362323760986328,\n",
       " 16.010772705078125,\n",
       " 19.567983627319336,\n",
       " 17.78472328186035,\n",
       " 18.43802833557129,\n",
       " 16.62499237060547,\n",
       " 16.520971298217773,\n",
       " 16.78537368774414,\n",
       " 22.048686981201172,\n",
       " 19.411266326904297,\n",
       " 18.41273307800293,\n",
       " 17.144939422607422,\n",
       " 17.021759033203125,\n",
       " 17.420570373535156,\n",
       " 16.55117416381836,\n",
       " 15.363910675048828,\n",
       " 14.845330238342285,\n",
       " 17.934097290039062,\n",
       " 16.154136657714844,\n",
       " 17.68260383605957,\n",
       " 19.582738876342773,\n",
       " 14.886027336120605,\n",
       " 15.495057106018066,\n",
       " 17.467453002929688,\n",
       " 17.576908111572266,\n",
       " 14.360154151916504,\n",
       " 16.116546630859375,\n",
       " 15.39688777923584,\n",
       " 16.045259475708008,\n",
       " 16.495187759399414,\n",
       " 18.467500686645508,\n",
       " 18.300241470336914,\n",
       " 13.831781387329102,\n",
       " 17.30596923828125,\n",
       " 18.026771545410156,\n",
       " 15.692167282104492,\n",
       " 16.035682678222656,\n",
       " 16.06536293029785,\n",
       " 17.116304397583008,\n",
       " 17.617250442504883,\n",
       " 15.141844749450684,\n",
       " 16.13029670715332,\n",
       " 16.74045753479004,\n",
       " 15.719240188598633,\n",
       " 16.740890502929688,\n",
       " 12.866812705993652,\n",
       " 14.389530181884766,\n",
       " 18.36910057067871,\n",
       " 13.351564407348633,\n",
       " 15.305729866027832,\n",
       " 13.551923751831055,\n",
       " 16.635639190673828,\n",
       " 16.878887176513672,\n",
       " 14.194722175598145,\n",
       " 16.850839614868164,\n",
       " 15.969548225402832,\n",
       " 13.937347412109375,\n",
       " 15.840995788574219,\n",
       " 13.169502258300781,\n",
       " 15.661953926086426,\n",
       " 16.915571212768555,\n",
       " 14.569546699523926,\n",
       " 15.744119644165039,\n",
       " 16.835779190063477,\n",
       " 16.762310028076172,\n",
       " 16.14615249633789,\n",
       " 15.911252975463867,\n",
       " 14.513411521911621,\n",
       " 13.488511085510254,\n",
       " 14.611343383789062,\n",
       " 13.234697341918945,\n",
       " 15.97627067565918,\n",
       " 16.117324829101562,\n",
       " 14.694908142089844,\n",
       " 14.297613143920898,\n",
       " 13.376358985900879,\n",
       " 14.075664520263672,\n",
       " 14.17143726348877,\n",
       " 16.88010025024414,\n",
       " 15.579110145568848,\n",
       " 14.430105209350586,\n",
       " 13.475214958190918,\n",
       " 14.723872184753418,\n",
       " 15.405942916870117,\n",
       " 13.207891464233398,\n",
       " 14.836237907409668,\n",
       " 14.782055854797363,\n",
       " 16.05327033996582,\n",
       " 11.73405647277832,\n",
       " 18.949844360351562,\n",
       " 14.536232948303223,\n",
       " 13.418919563293457,\n",
       " 16.581085205078125,\n",
       " 14.516180992126465,\n",
       " 11.917457580566406,\n",
       " 13.768377304077148,\n",
       " 14.91277027130127,\n",
       " 16.65328025817871,\n",
       " 14.953535079956055,\n",
       " 15.156645774841309,\n",
       " 13.288098335266113,\n",
       " 12.974516868591309,\n",
       " 14.670426368713379,\n",
       " 14.702640533447266,\n",
       " 13.533394813537598,\n",
       " 13.470098495483398,\n",
       " 15.074423789978027,\n",
       " 12.551054954528809,\n",
       " 15.393592834472656,\n",
       " 13.452645301818848,\n",
       " 16.983583450317383,\n",
       " 12.724090576171875,\n",
       " 12.709853172302246,\n",
       " 15.390511512756348,\n",
       " 13.757368087768555,\n",
       " 13.927970886230469,\n",
       " 11.93387222290039,\n",
       " 11.7317476272583,\n",
       " 15.441705703735352,\n",
       " 14.917923927307129,\n",
       " 15.19242000579834,\n",
       " 16.46979331970215,\n",
       " 15.263449668884277,\n",
       " 10.779512405395508,\n",
       " 12.27523422241211,\n",
       " 13.861169815063477,\n",
       " 14.819313049316406,\n",
       " 16.219829559326172,\n",
       " 15.004448890686035,\n",
       " 13.512625694274902,\n",
       " 17.108985900878906,\n",
       " 13.588150024414062,\n",
       " 13.263837814331055,\n",
       " 12.869197845458984,\n",
       " 12.852665901184082,\n",
       " 14.593873023986816,\n",
       " 14.221009254455566,\n",
       " 13.614242553710938,\n",
       " 11.993432998657227,\n",
       " 13.676461219787598,\n",
       " 11.886421203613281,\n",
       " 9.053840637207031,\n",
       " 12.325901985168457,\n",
       " 11.70302677154541,\n",
       " 13.377461433410645,\n",
       " 13.263032913208008,\n",
       " 14.086413383483887,\n",
       " 12.80809497833252,\n",
       " 11.489733695983887,\n",
       " 14.010730743408203,\n",
       " 12.860038757324219,\n",
       " 13.2413911819458,\n",
       " 13.982040405273438,\n",
       " 13.646783828735352,\n",
       " 11.973567962646484,\n",
       " 12.804927825927734,\n",
       " 15.182867050170898,\n",
       " 11.460634231567383,\n",
       " 12.364144325256348,\n",
       " 15.262934684753418,\n",
       " 12.227201461791992,\n",
       " 12.010391235351562,\n",
       " 12.874809265136719,\n",
       " 12.149611473083496,\n",
       " 11.547442436218262,\n",
       " 13.339571952819824,\n",
       " 11.613846778869629,\n",
       " 12.7241792678833,\n",
       " 13.284178733825684,\n",
       " 9.935545921325684,\n",
       " 12.474126815795898,\n",
       " 9.997015953063965,\n",
       " 11.519429206848145,\n",
       " 12.314016342163086,\n",
       " 14.218870162963867,\n",
       " 12.695886611938477,\n",
       " 11.660141944885254,\n",
       " 13.216385841369629,\n",
       " 13.219915390014648,\n",
       " 11.883955955505371,\n",
       " 9.84013843536377,\n",
       " 13.110828399658203,\n",
       " 14.298487663269043,\n",
       " 12.54429817199707,\n",
       " 12.614463806152344,\n",
       " 12.690506935119629,\n",
       " 10.185760498046875,\n",
       " 14.594282150268555,\n",
       " 10.259675979614258,\n",
       " 12.474494934082031,\n",
       " 10.548087120056152,\n",
       " 10.725910186767578,\n",
       " 11.571921348571777,\n",
       " 10.022214889526367,\n",
       " 11.114297866821289,\n",
       " 11.85770320892334,\n",
       " 10.840099334716797,\n",
       " 12.33504867553711,\n",
       " 12.683126449584961,\n",
       " 13.012285232543945,\n",
       " 12.037413597106934,\n",
       " 10.213399887084961,\n",
       " 12.414363861083984,\n",
       " 10.776588439941406,\n",
       " 9.718464851379395,\n",
       " 11.448363304138184,\n",
       " 11.423674583435059,\n",
       " 10.77493667602539,\n",
       " 11.798781394958496,\n",
       " 10.507262229919434,\n",
       " 13.223508834838867,\n",
       " 9.919097900390625,\n",
       " 11.177225112915039,\n",
       " 8.994367599487305,\n",
       " 10.4249906539917,\n",
       " 10.54662036895752,\n",
       " 10.274690628051758,\n",
       " 7.960807800292969,\n",
       " 12.569437980651855,\n",
       " 8.261812210083008,\n",
       " 15.23736572265625,\n",
       " 13.757797241210938,\n",
       " 10.187190055847168,\n",
       " 10.762199401855469,\n",
       " 9.767661094665527,\n",
       " 11.56039810180664,\n",
       " 10.41485595703125,\n",
       " 9.88922119140625,\n",
       " 10.44708251953125,\n",
       " 8.417121887207031,\n",
       " 7.311037063598633,\n",
       " 11.258636474609375,\n",
       " 8.402474403381348,\n",
       " 10.741971969604492,\n",
       " 11.907583236694336,\n",
       " 10.593437194824219,\n",
       " 9.944884300231934,\n",
       " 9.626253128051758,\n",
       " 12.47576904296875,\n",
       " 10.533889770507812,\n",
       " 9.834649085998535,\n",
       " 9.322135925292969,\n",
       " 11.253279685974121,\n",
       " 10.437549591064453,\n",
       " 9.169833183288574,\n",
       " 8.21240520477295,\n",
       " 10.536449432373047,\n",
       " 9.57973861694336,\n",
       " 11.526201248168945,\n",
       " 8.059691429138184,\n",
       " 11.719429016113281,\n",
       " 13.29467487335205,\n",
       " 9.193314552307129,\n",
       " 10.802177429199219,\n",
       " 9.207674980163574,\n",
       " 13.130170822143555,\n",
       " 10.953344345092773,\n",
       " 8.696611404418945,\n",
       " 8.397933959960938,\n",
       " 7.953463554382324,\n",
       " 9.421244621276855,\n",
       " 10.451894760131836,\n",
       " 10.330476760864258,\n",
       " 11.38293170928955,\n",
       " 10.03334903717041,\n",
       " 11.524346351623535,\n",
       " 11.578703880310059,\n",
       " 8.414800643920898,\n",
       " 8.644530296325684,\n",
       " 11.4185152053833,\n",
       " 6.618549346923828,\n",
       " 11.171234130859375,\n",
       " 10.858887672424316,\n",
       " 9.632879257202148,\n",
       " 7.456494331359863,\n",
       " 10.766098976135254,\n",
       " 8.317831993103027,\n",
       " 8.310627937316895,\n",
       " 9.117631912231445,\n",
       " 9.551493644714355,\n",
       " 9.419525146484375,\n",
       " 9.603041648864746,\n",
       " 8.725369453430176,\n",
       " 8.752435684204102,\n",
       " 9.033243179321289,\n",
       " 7.601655006408691,\n",
       " 9.64598560333252,\n",
       " 9.213132858276367,\n",
       " 8.352020263671875,\n",
       " 8.955735206604004,\n",
       " 11.157285690307617,\n",
       " 10.284951210021973,\n",
       " 8.908772468566895,\n",
       " 7.766373157501221,\n",
       " 11.50904655456543,\n",
       " 9.785322189331055,\n",
       " 9.1226806640625,\n",
       " 7.633625507354736,\n",
       " 11.752494812011719,\n",
       " 9.620932579040527,\n",
       " 10.206198692321777,\n",
       " 9.037932395935059,\n",
       " 8.818331718444824,\n",
       " 9.136914253234863,\n",
       " 9.63827133178711,\n",
       " 7.527164459228516,\n",
       " 9.55388355255127,\n",
       " 9.666202545166016,\n",
       " 10.03762149810791,\n",
       " 8.093857765197754,\n",
       " 5.834046840667725,\n",
       " 7.6929121017456055,\n",
       " 8.660109519958496,\n",
       " 8.769286155700684,\n",
       " 8.373032569885254,\n",
       " 8.5276460647583,\n",
       " 6.151134967803955,\n",
       " 8.647773742675781,\n",
       " 9.032217979431152,\n",
       " 7.723640441894531,\n",
       " 10.473345756530762,\n",
       " 9.60265064239502,\n",
       " 8.44633674621582,\n",
       " 10.468165397644043,\n",
       " 11.707050323486328,\n",
       " 9.16038990020752,\n",
       " 8.024781227111816,\n",
       " 7.014495849609375,\n",
       " 8.511159896850586,\n",
       " 7.0251898765563965,\n",
       " 7.333275318145752,\n",
       " 9.182561874389648,\n",
       " 7.56816291809082,\n",
       " 7.8585734367370605,\n",
       " 6.615084171295166,\n",
       " 8.534891128540039,\n",
       " 6.60857629776001,\n",
       " 8.893555641174316,\n",
       " 7.9247822761535645,\n",
       " 7.961322784423828,\n",
       " 7.973848342895508,\n",
       " 8.49321460723877,\n",
       " 7.643976211547852,\n",
       " 7.891013145446777,\n",
       " 8.348016738891602,\n",
       " 8.339537620544434,\n",
       " 8.200746536254883,\n",
       " 7.260712623596191,\n",
       " 7.590509414672852,\n",
       " 6.6046881675720215,\n",
       " 5.072872161865234,\n",
       " 5.487791538238525,\n",
       " 7.950083255767822,\n",
       " 7.082272052764893,\n",
       " 6.845919132232666,\n",
       " 7.12715482711792,\n",
       " 6.030364990234375,\n",
       " 5.995394229888916,\n",
       " 6.5174055099487305,\n",
       " 9.473345756530762,\n",
       " 6.701367378234863,\n",
       " 7.662201404571533,\n",
       " 7.62223482131958,\n",
       " 5.481045722961426,\n",
       " 5.6309332847595215,\n",
       " 7.205447196960449,\n",
       " 8.068675994873047,\n",
       " 7.084857940673828,\n",
       " 8.028192520141602,\n",
       " 6.540769577026367,\n",
       " 8.199722290039062,\n",
       " 7.225958824157715,\n",
       " 6.845295429229736,\n",
       " 6.784526824951172,\n",
       " 5.982112884521484,\n",
       " 6.702951908111572,\n",
       " 6.336435317993164,\n",
       " 6.211635112762451,\n",
       " 6.863262176513672,\n",
       " 7.041232109069824,\n",
       " 6.839278697967529,\n",
       " 7.599016189575195,\n",
       " 6.8657989501953125,\n",
       " 6.4847025871276855,\n",
       " 7.578098297119141,\n",
       " 5.717631816864014,\n",
       " 8.497820854187012,\n",
       " 4.232324600219727,\n",
       " 5.917346477508545,\n",
       " 6.9362688064575195,\n",
       " 6.647945880889893,\n",
       " 7.24520206451416,\n",
       " 5.060016632080078,\n",
       " 6.402545928955078,\n",
       " 6.205230236053467,\n",
       " 6.960648536682129,\n",
       " 7.166874885559082,\n",
       " 7.049243927001953,\n",
       " 4.867598056793213,\n",
       " 5.180181980133057,\n",
       " 5.943469524383545,\n",
       " 5.87480354309082,\n",
       " 6.572319984436035,\n",
       " 6.062202453613281,\n",
       " 6.536229133605957,\n",
       " 7.214776992797852,\n",
       " 4.815804958343506,\n",
       " 4.961446285247803,\n",
       " 7.2785115242004395,\n",
       " 5.247373580932617,\n",
       " 5.480633735656738,\n",
       " 6.739264488220215,\n",
       " 7.022215366363525,\n",
       " 5.458865165710449,\n",
       " 5.492637634277344,\n",
       " 6.986520767211914,\n",
       " 5.486833572387695,\n",
       " 7.156394004821777,\n",
       " 4.713355541229248,\n",
       " 6.383026123046875,\n",
       " 3.9499869346618652,\n",
       " 5.616136074066162,\n",
       " 7.375658988952637,\n",
       " 6.677481651306152,\n",
       " 5.873689651489258,\n",
       " 5.079966068267822,\n",
       " 5.47227668762207,\n",
       " 4.2649827003479,\n",
       " 6.459259986877441,\n",
       " 5.893566131591797,\n",
       " 6.237611293792725,\n",
       " 4.848311901092529,\n",
       " 6.81979513168335,\n",
       " 5.747476100921631,\n",
       " 4.444912910461426,\n",
       " 6.051825046539307,\n",
       " 5.665235996246338,\n",
       " 5.167876720428467,\n",
       " 5.1393513679504395,\n",
       " 5.753291130065918,\n",
       " 4.632020950317383,\n",
       " 5.253011703491211,\n",
       " 5.27471399307251,\n",
       " 7.050291061401367,\n",
       " 4.977288722991943,\n",
       " 5.1087751388549805,\n",
       " 6.2360382080078125,\n",
       " 4.838707447052002,\n",
       " 5.761882305145264,\n",
       " 6.732625484466553,\n",
       " 4.204012393951416,\n",
       " 4.724935054779053,\n",
       " 5.367359638214111,\n",
       " 4.674319744110107,\n",
       " 5.2474045753479,\n",
       " 4.395984172821045,\n",
       " 4.421284198760986,\n",
       " 4.703693389892578,\n",
       " 3.374552011489868,\n",
       " 4.208759307861328,\n",
       " 7.060740947723389,\n",
       " 5.396522045135498,\n",
       " 4.022202491760254,\n",
       " 6.682837009429932,\n",
       " 4.1347551345825195,\n",
       " 4.61133337020874,\n",
       " 4.581500053405762,\n",
       " 4.232992649078369,\n",
       " 5.512191295623779,\n",
       " 3.749171018600464,\n",
       " 4.223906517028809,\n",
       " 3.7989625930786133,\n",
       " 6.062910556793213,\n",
       " 4.4233622550964355,\n",
       " 4.5496745109558105,\n",
       " 4.6895751953125,\n",
       " 3.6828396320343018,\n",
       " 5.70001745223999,\n",
       " 4.932175636291504,\n",
       " 5.05432653427124,\n",
       " 3.9667880535125732,\n",
       " 4.300328731536865,\n",
       " 3.87273907661438,\n",
       " 4.571331024169922,\n",
       " 4.446336269378662,\n",
       " 5.344671726226807,\n",
       " 4.313259124755859,\n",
       " 4.221047401428223,\n",
       " 3.8738932609558105,\n",
       " 3.9359030723571777,\n",
       " 3.521258592605591,\n",
       " 4.739226818084717,\n",
       " 4.187133312225342,\n",
       " 4.40452766418457,\n",
       " 4.5705060958862305,\n",
       " 3.6465561389923096,\n",
       " 5.079702854156494,\n",
       " 3.3196027278900146,\n",
       " 4.61752986907959,\n",
       " 4.428903102874756,\n",
       " 3.526550531387329,\n",
       " 3.7050325870513916,\n",
       " 5.091806411743164,\n",
       " 4.462953567504883,\n",
       " 3.3314685821533203,\n",
       " 4.064940452575684,\n",
       " 4.988869667053223,\n",
       " 3.374776601791382,\n",
       " 3.7292237281799316,\n",
       " 4.357113361358643,\n",
       " 3.290581464767456,\n",
       " 3.7959980964660645,\n",
       " 3.5752029418945312,\n",
       " 4.634329319000244,\n",
       " 2.8244237899780273,\n",
       " 3.125338077545166,\n",
       " 3.6288928985595703,\n",
       " 4.821767330169678,\n",
       " 4.252330303192139,\n",
       " 3.5657589435577393,\n",
       " 4.687675476074219,\n",
       " 3.7589399814605713,\n",
       " 4.966623783111572,\n",
       " 3.701634645462036,\n",
       " 2.5188512802124023,\n",
       " 3.8992598056793213,\n",
       " 3.716646194458008,\n",
       " 3.9226746559143066,\n",
       " 4.236512660980225,\n",
       " 4.394567489624023,\n",
       " 3.044700860977173,\n",
       " 4.464208126068115,\n",
       " 3.9980952739715576,\n",
       " 4.602247714996338,\n",
       " 3.3609917163848877,\n",
       " 3.6260437965393066,\n",
       " 3.9473319053649902,\n",
       " 3.596423864364624,\n",
       " 3.472726583480835,\n",
       " 3.4233758449554443,\n",
       " 4.510672092437744,\n",
       " 4.201071262359619,\n",
       " 3.2954769134521484,\n",
       " 4.0234174728393555,\n",
       " 3.372480630874634,\n",
       " 3.6591055393218994,\n",
       " 3.6191742420196533,\n",
       " 4.066619396209717,\n",
       " 3.3946428298950195,\n",
       " 4.443741321563721,\n",
       " 3.903609037399292,\n",
       " 3.833550214767456,\n",
       " 3.943850517272949,\n",
       " 3.809962749481201,\n",
       " 3.538085460662842,\n",
       " 2.67793345451355,\n",
       " 3.1597909927368164,\n",
       " 3.2583870887756348,\n",
       " 3.707651138305664,\n",
       " 2.8982558250427246,\n",
       " 3.5364322662353516,\n",
       " 3.6104841232299805,\n",
       " 3.820068836212158,\n",
       " 3.5401713848114014,\n",
       " 3.10060715675354,\n",
       " 2.8269662857055664,\n",
       " 4.838328838348389,\n",
       " 3.695559024810791,\n",
       " 3.7728939056396484,\n",
       " 3.306816816329956,\n",
       " 3.5167315006256104,\n",
       " 2.676604986190796,\n",
       " 3.2196810245513916,\n",
       " 2.937652826309204,\n",
       " 3.322509527206421,\n",
       " 2.9745991230010986,\n",
       " 2.511874198913574,\n",
       " 3.040919303894043,\n",
       " 3.0567142963409424,\n",
       " 3.562363624572754,\n",
       " 3.2199645042419434,\n",
       " 4.371609687805176,\n",
       " 3.216191291809082,\n",
       " 2.7823586463928223,\n",
       " 3.443842649459839,\n",
       " 2.793423891067505,\n",
       " 2.972843647003174,\n",
       " 3.8245534896850586,\n",
       " 3.443991184234619,\n",
       " 3.208606481552124,\n",
       " 3.7833003997802734,\n",
       " 3.93100643157959,\n",
       " 2.821207284927368,\n",
       " 3.4372265338897705,\n",
       " 3.5431246757507324,\n",
       " 3.3449153900146484,\n",
       " 3.167620897293091,\n",
       " 2.855395555496216,\n",
       " 2.621384382247925,\n",
       " 3.3182241916656494,\n",
       " 3.1600425243377686,\n",
       " 3.6269664764404297,\n",
       " 3.7254416942596436,\n",
       " 3.5258538722991943,\n",
       " 3.8741419315338135,\n",
       " 3.2380123138427734,\n",
       " 3.1220388412475586,\n",
       " 2.994609832763672,\n",
       " 3.230013132095337,\n",
       " 3.303767204284668,\n",
       " 2.8825886249542236,\n",
       " 2.977154016494751,\n",
       " 3.358072280883789,\n",
       " 4.000687122344971,\n",
       " 2.764983892440796,\n",
       " 3.5731379985809326,\n",
       " 3.1774275302886963,\n",
       " 3.0119564533233643,\n",
       " 3.3154289722442627,\n",
       " 2.803976058959961,\n",
       " 3.3148224353790283,\n",
       " 3.2831778526306152,\n",
       " 3.6703622341156006,\n",
       " 3.346701145172119,\n",
       " 3.0652291774749756,\n",
       " 2.5355887413024902,\n",
       " 3.0945258140563965,\n",
       " 2.673882246017456,\n",
       " 3.323565721511841,\n",
       " 3.1381397247314453,\n",
       " 3.60041880607605,\n",
       " 2.740593433380127,\n",
       " 3.80127215385437,\n",
       " 2.6558167934417725,\n",
       " 3.4247474670410156,\n",
       " 3.2305617332458496,\n",
       " 2.8031575679779053,\n",
       " 3.270397186279297,\n",
       " 3.239588737487793,\n",
       " 2.960996627807617,\n",
       " 3.0541720390319824,\n",
       " 2.7964818477630615,\n",
       " 3.2608282566070557,\n",
       " 3.6936399936676025,\n",
       " 2.5458831787109375,\n",
       " 3.4306275844573975,\n",
       " 2.9955952167510986,\n",
       " 3.013615369796753,\n",
       " 2.5357277393341064,\n",
       " 3.1194710731506348,\n",
       " 2.900524377822876,\n",
       " 3.1135873794555664,\n",
       " 2.936594009399414,\n",
       " 3.730146646499634,\n",
       " 2.7317585945129395,\n",
       " 3.6757099628448486,\n",
       " 3.033663272857666,\n",
       " 2.774766445159912,\n",
       " 3.29874587059021,\n",
       " 3.1099419593811035,\n",
       " 3.132045030593872,\n",
       " 3.1894357204437256,\n",
       " 3.3515727519989014,\n",
       " 2.859055757522583,\n",
       " 2.7282555103302,\n",
       " 2.5659329891204834,\n",
       " 2.7094385623931885,\n",
       " 3.247957706451416,\n",
       " 3.3663430213928223,\n",
       " 2.7044901847839355,\n",
       " 2.528353452682495,\n",
       " 2.532518148422241,\n",
       " 2.852389335632324,\n",
       " 2.8887202739715576,\n",
       " 3.08939266204834,\n",
       " 2.7325122356414795,\n",
       " 3.8663430213928223,\n",
       " 3.7034835815429688,\n",
       " 3.1294782161712646,\n",
       " 2.9757583141326904,\n",
       " 3.575340747833252,\n",
       " 3.2983975410461426,\n",
       " 2.9075872898101807,\n",
       " 3.1357665061950684,\n",
       " 3.489980697631836,\n",
       " 3.632269859313965,\n",
       " 3.3368961811065674,\n",
       " 3.73124098777771,\n",
       " 3.2786178588867188,\n",
       " 3.846709966659546,\n",
       " 2.893667221069336,\n",
       " 3.276275157928467,\n",
       " 3.1379623413085938,\n",
       " 3.0759456157684326,\n",
       " 3.1631691455841064,\n",
       " 3.3358030319213867,\n",
       " 2.530977964401245,\n",
       " 3.4541566371917725,\n",
       " 2.8183701038360596,\n",
       " 3.325826406478882,\n",
       " 3.2458088397979736,\n",
       " 3.168823480606079,\n",
       " 2.781114101409912,\n",
       " 2.9475393295288086,\n",
       " 2.4483120441436768,\n",
       " 2.9090850353240967,\n",
       " 3.179189682006836,\n",
       " 2.8891000747680664,\n",
       " 3.08441162109375,\n",
       " 3.3311655521392822,\n",
       " 2.9285264015197754,\n",
       " 3.194106340408325,\n",
       " 3.3149750232696533,\n",
       " 3.433265209197998,\n",
       " 3.989241361618042,\n",
       " 3.273322105407715,\n",
       " 2.6665971279144287,\n",
       " 3.0296428203582764,\n",
       " 3.4461264610290527,\n",
       " 3.3328657150268555,\n",
       " 3.074998140335083,\n",
       " 3.060441493988037,\n",
       " 3.447200059890747,\n",
       " 3.557957649230957,\n",
       " 4.221696853637695,\n",
       " 3.464789390563965,\n",
       " 3.8985908031463623,\n",
       " 2.9074132442474365,\n",
       " 3.1367828845977783,\n",
       " 3.1777005195617676,\n",
       " 3.0985825061798096,\n",
       " 3.3846511840820312,\n",
       " 3.2412757873535156,\n",
       " 3.0223398208618164,\n",
       " 3.419529438018799,\n",
       " 3.402531623840332,\n",
       " 2.8669919967651367,\n",
       " 3.2596981525421143,\n",
       " 3.2252814769744873,\n",
       " 3.015859842300415,\n",
       " 3.551941394805908,\n",
       " 3.1381657123565674,\n",
       " 2.7879247665405273,\n",
       " 3.343475580215454,\n",
       " 3.3486480712890625,\n",
       " 3.2381997108459473,\n",
       " 3.175398588180542,\n",
       " 4.146851062774658,\n",
       " 4.066239356994629,\n",
       " 4.34852933883667,\n",
       " 4.39732551574707,\n",
       " 3.2154719829559326,\n",
       " 2.4504544734954834,\n",
       " 4.271876335144043,\n",
       " 4.0245184898376465,\n",
       " 3.5874722003936768,\n",
       " 3.264206886291504,\n",
       " 3.4943912029266357,\n",
       " 3.272979974746704,\n",
       " 3.460117816925049,\n",
       " 4.021396160125732,\n",
       " 2.9791676998138428,\n",
       " 3.876784324645996,\n",
       " 3.1005783081054688,\n",
       " 4.640713214874268,\n",
       " 3.3436830043792725,\n",
       " 3.8436808586120605,\n",
       " 3.511040687561035,\n",
       " 3.282649278640747,\n",
       " 3.8372836112976074,\n",
       " 3.782614231109619,\n",
       " 3.7472057342529297,\n",
       " 3.576045513153076,\n",
       " 3.7839372158050537,\n",
       " 4.108847141265869,\n",
       " 4.31962251663208,\n",
       " 3.796233892440796,\n",
       " 5.136994361877441,\n",
       " 4.327670574188232,\n",
       " 3.7504830360412598,\n",
       " 3.3496720790863037,\n",
       " 3.856384515762329,\n",
       " 4.704950332641602,\n",
       " 4.302490234375,\n",
       " 3.6657121181488037,\n",
       " 3.4706802368164062,\n",
       " 3.5822372436523438,\n",
       " 4.411553382873535,\n",
       " 4.11767578125,\n",
       " 4.124017238616943,\n",
       " 3.8925113677978516,\n",
       " 4.411637306213379,\n",
       " 4.915838241577148,\n",
       " 6.140815734863281,\n",
       " 5.079746246337891,\n",
       " 4.197048187255859,\n",
       " 4.004263877868652,\n",
       " 4.893759250640869,\n",
       " 3.4796032905578613,\n",
       " 3.6707520484924316,\n",
       " 3.2345211505889893,\n",
       " 4.080695152282715,\n",
       " 3.74813175201416,\n",
       " 3.917407751083374,\n",
       " 3.523792266845703,\n",
       " 4.467474460601807,\n",
       " 3.4449338912963867,\n",
       " 3.8687868118286133,\n",
       " 3.885840654373169,\n",
       " 3.9846384525299072,\n",
       " 4.250779628753662,\n",
       " 3.9018776416778564,\n",
       " 4.818608283996582,\n",
       " 3.4043469429016113,\n",
       " 4.605421543121338,\n",
       " 4.1667890548706055,\n",
       " 5.64725923538208,\n",
       " 4.5361328125,\n",
       " 4.019601821899414,\n",
       " 4.571946620941162,\n",
       " 3.6344387531280518,\n",
       " 4.872699737548828,\n",
       " 4.650993347167969,\n",
       " 4.51418924331665,\n",
       " 4.947166919708252,\n",
       " 4.24062967300415,\n",
       " 3.490903854370117,\n",
       " 8.315112113952637,\n",
       " 7.474689483642578,\n",
       " 5.543586254119873,\n",
       " 6.1927595138549805,\n",
       " 6.86962366104126,\n",
       " 4.245082855224609,\n",
       " 4.675065517425537,\n",
       " 5.50210428237915,\n",
       " 6.214084148406982,\n",
       " 6.546838283538818,\n",
       " 5.520191669464111,\n",
       " 5.852637767791748,\n",
       " 7.375960350036621,\n",
       " 5.152968883514404,\n",
       " 5.664605140686035,\n",
       " 4.164440631866455,\n",
       " 5.214360237121582,\n",
       " 4.611827373504639,\n",
       " 5.167974948883057,\n",
       " 5.109984874725342,\n",
       " 5.730138301849365,\n",
       " 6.198655128479004,\n",
       " 4.069571018218994,\n",
       " 5.855591297149658,\n",
       " 6.655571937561035,\n",
       " 6.510855197906494,\n",
       " 5.426632881164551,\n",
       " 6.380058288574219,\n",
       " 6.94249153137207,\n",
       " 5.4720258712768555,\n",
       " 4.539134979248047,\n",
       " 6.381405830383301,\n",
       " 6.914477348327637,\n",
       " 6.913507461547852,\n",
       " 9.89028549194336,\n",
       " 6.6241774559021,\n",
       " 6.01674222946167,\n",
       " 5.893688678741455,\n",
       " 4.9704461097717285,\n",
       " 4.343160152435303,\n",
       " 4.434314727783203,\n",
       " 5.19406795501709,\n",
       " 7.8635382652282715,\n",
       " 5.61376953125,\n",
       " 6.427023410797119,\n",
       " 6.03044319152832,\n",
       " 5.726016044616699,\n",
       " 5.655334949493408,\n",
       " 5.798835277557373,\n",
       " 7.714686393737793,\n",
       " 7.047543048858643,\n",
       " 6.681087970733643,\n",
       " 6.388800144195557,\n",
       " 5.093644142150879,\n",
       " 5.949276447296143,\n",
       " 5.938870906829834,\n",
       " 6.5343828201293945,\n",
       " 6.117138862609863,\n",
       " 5.509301662445068,\n",
       " 5.6177778244018555,\n",
       " 6.734245777130127,\n",
       " 6.03694486618042,\n",
       " 5.762583255767822,\n",
       " 5.901848793029785,\n",
       " 6.117489337921143,\n",
       " 6.818388938903809,\n",
       " 7.725281715393066,\n",
       " 7.522808074951172,\n",
       " 6.624447345733643,\n",
       " 8.173684120178223,\n",
       " 6.785134315490723,\n",
       " 5.315715789794922,\n",
       " 8.089164733886719,\n",
       " 6.516846179962158,\n",
       " 8.28262996673584,\n",
       " 8.740992546081543,\n",
       " 8.126623153686523,\n",
       " 9.162568092346191,\n",
       " 11.79594612121582,\n",
       " 9.62336540222168,\n",
       " 7.814444541931152,\n",
       " 8.576313018798828,\n",
       " 7.203304290771484,\n",
       " 6.481105804443359,\n",
       " 5.439911842346191,\n",
       " 7.00647497177124,\n",
       " 10.454486846923828,\n",
       " 8.314234733581543,\n",
       " 7.003018856048584,\n",
       " 8.0394287109375,\n",
       " 6.175633907318115,\n",
       " 6.911683082580566,\n",
       " 5.4627580642700195,\n",
       " 6.891098499298096,\n",
       " 8.796835899353027,\n",
       " 6.757050037384033,\n",
       " 5.67567253112793,\n",
       " 7.420865535736084,\n",
       " 6.474470138549805,\n",
       " 9.283575057983398,\n",
       " 9.26745319366455,\n",
       " 7.746259689331055]"
      ]
     },
     "execution_count": 73,
     "metadata": {},
     "output_type": "execute_result"
    }
   ],
   "source": [
    "lossi"
   ]
  },
  {
   "cell_type": "code",
   "execution_count": null,
   "id": "b687723d",
   "metadata": {},
   "outputs": [
    {
     "data": {
      "text/plain": [
       "[<matplotlib.lines.Line2D at 0x105385460>]"
      ]
     },
     "execution_count": 74,
     "metadata": {},
     "output_type": "execute_result"
    },
    {
     "data": {
      "image/png": "[encoded data removed]",
      "text/plain": [
       "<Figure size 640x480 with 1 Axes>"
      ]
     },
     "metadata": {},
     "output_type": "display_data"
    }
   ],
   "source": [
    "plt.plot(lri,lossi)\n",
    "# As we can see that we can find a good learning rate which comes to around -1.0, or 10^-1 = 0.1\n",
    "# So 0.1 is a good learning rate."
   ]
  },
  {
   "cell_type": "code",
   "execution_count": null,
   "id": "9c19309c",
   "metadata": {},
   "outputs": [
    {
     "data": {
      "text/plain": [
       "tensor([ 1, 18, 14,  ..., 20,  0,  1])"
      ]
     },
     "execution_count": 337,
     "metadata": {},
     "output_type": "execute_result"
    }
   ],
   "source": [
    "logits.max(1)[1]"
   ]
  },
  {
   "cell_type": "code",
   "execution_count": null,
   "id": "106fa0aa",
   "metadata": {},
   "outputs": [
    {
     "data": {
      "text/plain": [
       "tensor([ 2,  5, 12,  ...,  5, 10,  0])"
      ]
     },
     "execution_count": 340,
     "metadata": {},
     "output_type": "execute_result"
    }
   ],
   "source": [
    "ydev"
   ]
  },
  {
   "cell_type": "code",
   "execution_count": null,
   "id": "3c53332a",
   "metadata": {},
   "outputs": [],
   "source": []
  }
 ],
 "metadata": {
  "kernelspec": {
   "display_name": "base",
   "language": "python",
   "name": "python3"
  },
  "language_info": {
   "codemirror_mode": {
    "name": "ipython",
    "version": 3
   },
   "file_extension": ".py",
   "mimetype": "text/x-python",
   "name": "python",
   "nbconvert_exporter": "python",
   "pygments_lexer": "ipython3",
   "version": "3.12.8"
  }
 },
 "nbformat": 4,
 "nbformat_minor": 5
}
